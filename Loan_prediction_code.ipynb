{
  "nbformat": 4,
  "nbformat_minor": 0,
  "metadata": {
    "colab": {
      "name": "Loan prediction code.ipynb",
      "provenance": [],
      "collapsed_sections": []
    },
    "kernelspec": {
      "name": "python3",
      "display_name": "Python 3"
    }
  },
  "cells": [
    {
      "cell_type": "code",
      "metadata": {
        "id": "NgjiJfsIJmM_"
      },
      "source": [
        "import numpy as np\r\n",
        "import pandas as pd\r\n",
        "import matplotlib.pyplot as plt\r\n",
        "import math \r\n",
        "import seaborn as sns\r\n",
        "from sklearn.preprocessing import LabelEncoder\r\n",
        "from sklearn.ensemble import ExtraTreesClassifier\r\n",
        "import tensorflow as tf\r\n",
        "from tensorflow.keras.models import Sequential\r\n",
        "from tensorflow.keras.layers import Dense, Activation,Dropout\r\n",
        "from tensorflow.keras.constraints import max_norm"
      ],
      "execution_count": 1,
      "outputs": []
    },
    {
      "cell_type": "code",
      "metadata": {
        "colab": {
          "base_uri": "https://localhost:8080/"
        },
        "id": "jFNx7-fbJm77",
        "outputId": "1a065e02-821b-42f5-a7c4-2573c3f0ec46"
      },
      "source": [
        "from google.colab import drive\r\n",
        "drive.mount('/content/drive')"
      ],
      "execution_count": 2,
      "outputs": [
        {
          "output_type": "stream",
          "text": [
            "Mounted at /content/drive\n"
          ],
          "name": "stdout"
        }
      ]
    },
    {
      "cell_type": "code",
      "metadata": {
        "id": "tqwZAofkJozc"
      },
      "source": [
        "df = pd.read_csv(\"/content/drive/My Drive/loans.csv\")"
      ],
      "execution_count": 3,
      "outputs": []
    },
    {
      "cell_type": "code",
      "metadata": {
        "colab": {
          "base_uri": "https://localhost:8080/",
          "height": 1000
        },
        "id": "sIo81RWSJxSU",
        "outputId": "77812750-89dd-4af7-de5b-f74dfb0609a7"
      },
      "source": [
        "print(\"Data description:\")\r\n",
        "print(df.describe())\r\n",
        "print(\"Data head:\")\r\n",
        "print(df.head(5))\r\n",
        "print(\"Column types:\")\r\n",
        "print(df.dtypes)\r\n",
        "print(\"Null values in the dataset:\")\r\n",
        "print(df.isnull().sum())\r\n",
        "\r\n",
        "''' individual column value distribution '''\r\n",
        "ax=sns.boxplot(data=df)\r\n",
        "ax.set_xticklabels(ax.get_xticklabels(), rotation=40, ha=\"right\")\r\n",
        "plt.tight_layout()\r\n",
        "plt.show()\r\n",
        "cmap = sns.cm.rocket_r\r\n",
        "\r\n",
        "''' correlation map '''\r\n",
        "ax = sns.heatmap(df.corr(),annot=False,fmt=\".3f\",vmin=-0.05,cmap = cmap)\r\n"
      ],
      "execution_count": 4,
      "outputs": [
        {
          "output_type": "stream",
          "text": [
            "Data description:\n",
            "       credit.policy     int.rate  ...      pub.rec  not.fully.paid\n",
            "count    9578.000000  9578.000000  ...  9549.000000     9578.000000\n",
            "mean        0.804970     0.122640  ...     0.062101        0.160054\n",
            "std         0.396245     0.026847  ...     0.262152        0.366676\n",
            "min         0.000000     0.060000  ...     0.000000        0.000000\n",
            "25%         1.000000     0.103900  ...     0.000000        0.000000\n",
            "50%         1.000000     0.122100  ...     0.000000        0.000000\n",
            "75%         1.000000     0.140700  ...     0.000000        0.000000\n",
            "max         1.000000     0.216400  ...     5.000000        1.000000\n",
            "\n",
            "[8 rows x 13 columns]\n",
            "Data head:\n",
            "   credit.policy             purpose  ...  pub.rec  not.fully.paid\n",
            "0              1  debt_consolidation  ...      0.0               0\n",
            "1              1         credit_card  ...      0.0               0\n",
            "2              1  debt_consolidation  ...      0.0               0\n",
            "3              1  debt_consolidation  ...      0.0               0\n",
            "4              1         credit_card  ...      0.0               0\n",
            "\n",
            "[5 rows x 14 columns]\n",
            "Column types:\n",
            "credit.policy          int64\n",
            "purpose               object\n",
            "int.rate             float64\n",
            "installment          float64\n",
            "log.annual.inc       float64\n",
            "dti                  float64\n",
            "fico                   int64\n",
            "days.with.cr.line    float64\n",
            "revol.bal              int64\n",
            "revol.util           float64\n",
            "inq.last.6mths       float64\n",
            "delinq.2yrs          float64\n",
            "pub.rec              float64\n",
            "not.fully.paid         int64\n",
            "dtype: object\n",
            "Null values in the dataset:\n",
            "credit.policy         0\n",
            "purpose               0\n",
            "int.rate              0\n",
            "installment           0\n",
            "log.annual.inc        4\n",
            "dti                   0\n",
            "fico                  0\n",
            "days.with.cr.line    29\n",
            "revol.bal             0\n",
            "revol.util           62\n",
            "inq.last.6mths       29\n",
            "delinq.2yrs          29\n",
            "pub.rec              29\n",
            "not.fully.paid        0\n",
            "dtype: int64\n"
          ],
          "name": "stdout"
        },
        {
          "output_type": "display_data",
          "data": {
            "image/png": "[encoded data removed]",
            "text/plain": [
              "<Figure size 432x288 with 1 Axes>"
            ]
          },
          "metadata": {
            "tags": [],
            "needs_background": "light"
          }
        },
        {
          "output_type": "display_data",
          "data": {
            "image/png": "[encoded data removed]",
            "text/plain": [
              "<Figure size 432x288 with 2 Axes>"
            ]
          },
          "metadata": {
            "tags": [],
            "needs_background": "light"
          }
        }
      ]
    },
    {
      "cell_type": "code",
      "metadata": {
        "colab": {
          "base_uri": "https://localhost:8080/",
          "height": 296
        },
        "id": "h6SQSyW1K1B6",
        "outputId": "1eb1d8cb-0737-473c-d769-b1d9ef1f8a74"
      },
      "source": [
        "''' Paid and not paid distribution '''\r\n",
        "sns.countplot(x='not.fully.paid',data=df)"
      ],
      "execution_count": 5,
      "outputs": [
        {
          "output_type": "execute_result",
          "data": {
            "text/plain": [
              "<matplotlib.axes._subplots.AxesSubplot at 0x7f273c962048>"
            ]
          },
          "metadata": {
            "tags": []
          },
          "execution_count": 5
        },
        {
          "output_type": "display_data",
          "data": {
            "image/png": "[encoded data removed]",
            "text/plain": [
              "<Figure size 432x288 with 1 Axes>"
            ]
          },
          "metadata": {
            "tags": [],
            "needs_background": "light"
          }
        }
      ]
    },
    {
      "cell_type": "code",
      "metadata": {
        "colab": {
          "base_uri": "https://localhost:8080/",
          "height": 881
        },
        "id": "pZDu3y53Kjcp",
        "outputId": "8a922cb5-b2c1-47dc-f50a-99f98c0855bd"
      },
      "source": [
        "''' not.fully.paid status with respect to categorical data in the dataset '''\r\n",
        "\r\n",
        "categorical_columns = ['credit.policy', 'purpose', 'inq.last.6mths', 'delinq.2yrs', 'pub.rec']\r\n",
        "fig,axes = plt.subplots(3,2,figsize=(12,15))\r\n",
        "for idx,cat_col in enumerate(categorical_columns):\r\n",
        "    row,col = idx//2,idx%2\r\n",
        "    sns.countplot(x=cat_col,data=df,hue='not.fully.paid',ax=axes[row,col])\r\n",
        "plt.subplots_adjust(hspace=1)"
      ],
      "execution_count": 6,
      "outputs": [
        {
          "output_type": "display_data",
          "data": {
            "image/png": "[encoded data removed]",
            "text/plain": [
              "<Figure size 864x1080 with 6 Axes>"
            ]
          },
          "metadata": {
            "tags": [],
            "needs_background": "light"
          }
        }
      ]
    },
    {
      "cell_type": "code",
      "metadata": {
        "colab": {
          "base_uri": "https://localhost:8080/",
          "height": 394
        },
        "id": "oAtcLiFKNmvr",
        "outputId": "01701765-f742-456b-ca3a-0b38d0fd655f"
      },
      "source": [
        "numerical_columns = ['int.rate', 'installment', 'log.annual.inc', 'dti', 'fico', 'days.with.cr.line', 'revol.bal', 'revol.util']\r\n",
        "fig,axes = plt.subplots(1,8,figsize=(35,4))\r\n",
        "for idx,cat_col in enumerate(numerical_columns):\r\n",
        "    sns.boxplot(y=cat_col,data=df,x='not.fully.paid',ax=axes[idx])\r\n",
        "\r\n",
        "print(df[numerical_columns].describe())\r\n",
        "plt.subplots_adjust(hspace=3)"
      ],
      "execution_count": 7,
      "outputs": [
        {
          "output_type": "stream",
          "text": [
            "          int.rate  installment  ...     revol.bal   revol.util\n",
            "count  9578.000000  9578.000000  ...  9.578000e+03  9516.000000\n",
            "mean      0.122640   319.089413  ...  1.691396e+04    46.865677\n",
            "std       0.026847   207.071301  ...  3.375619e+04    29.018642\n",
            "min       0.060000    15.670000  ...  0.000000e+00     0.000000\n",
            "25%       0.103900   163.770000  ...  3.187000e+03    22.700000\n",
            "50%       0.122100   268.950000  ...  8.596000e+03    46.400000\n",
            "75%       0.140700   432.762500  ...  1.824950e+04    71.000000\n",
            "max       0.216400   940.140000  ...  1.207359e+06   119.000000\n",
            "\n",
            "[8 rows x 8 columns]\n"
          ],
          "name": "stdout"
        },
        {
          "output_type": "display_data",
          "data": {
            "image/png": "[encoded data removed]",
            "text/plain": [
              "<Figure size 2520x288 with 8 Axes>"
            ]
          },
          "metadata": {
            "tags": [],
            "needs_background": "light"
          }
        }
      ]
    },
    {
      "cell_type": "markdown",
      "metadata": {
        "id": "2kGt6Oa4PZYS"
      },
      "source": [
        "Pre Processing"
      ]
    },
    {
      "cell_type": "code",
      "metadata": {
        "id": "GNpmaUMzPbNd"
      },
      "source": [
        "lb=LabelEncoder()\r\n",
        "df[\"purpose\"]=lb.fit_transform(df[\"purpose\"])\r\n",
        "df[\"credit.policy\"]=lb.fit_transform(df[\"credit.policy\"])\r\n",
        "df[\"pub.rec\"]=lb.fit_transform(df[\"pub.rec\"])\r\n",
        "df[\"inq.last.6mths\"]=lb.fit_transform(df[\"inq.last.6mths\"])\r\n",
        "df[\"delinq.2yrs\"]=lb.fit_transform(df[\"delinq.2yrs\"])"
      ],
      "execution_count": 8,
      "outputs": []
    },
    {
      "cell_type": "markdown",
      "metadata": {
        "id": "5DFfZBJjvhkD"
      },
      "source": [
        "Removing Outliers"
      ]
    },
    {
      "cell_type": "code",
      "metadata": {
        "colab": {
          "base_uri": "https://localhost:8080/",
          "height": 296
        },
        "id": "G5ab6AVLP9m-",
        "outputId": "886ca9cb-48b8-444e-b01a-49fa08ba7b88"
      },
      "source": [
        "df = df[df['int.rate'] < 0.19] \r\n",
        "sns.boxplot(x=df['int.rate'])"
      ],
      "execution_count": 9,
      "outputs": [
        {
          "output_type": "execute_result",
          "data": {
            "text/plain": [
              "<matplotlib.axes._subplots.AxesSubplot at 0x7f270abf9668>"
            ]
          },
          "metadata": {
            "tags": []
          },
          "execution_count": 9
        },
        {
          "output_type": "display_data",
          "data": {
            "image/png": "[encoded data removed]",
            "text/plain": [
              "<Figure size 432x288 with 1 Axes>"
            ]
          },
          "metadata": {
            "tags": [],
            "needs_background": "light"
          }
        }
      ]
    },
    {
      "cell_type": "code",
      "metadata": {
        "colab": {
          "base_uri": "https://localhost:8080/",
          "height": 296
        },
        "id": "9RWUQoclQBAQ",
        "outputId": "c6e7205e-5095-43a0-b0cd-70fee07b58f6"
      },
      "source": [
        "df = df[df['installment'] < 700] \r\n",
        "sns.boxplot(x=df['installment'])"
      ],
      "execution_count": 10,
      "outputs": [
        {
          "output_type": "execute_result",
          "data": {
            "text/plain": [
              "<matplotlib.axes._subplots.AxesSubplot at 0x7f27064e2cf8>"
            ]
          },
          "metadata": {
            "tags": []
          },
          "execution_count": 10
        },
        {
          "output_type": "display_data",
          "data": {
            "image/png": "[encoded data removed]",
            "text/plain": [
              "<Figure size 432x288 with 1 Axes>"
            ]
          },
          "metadata": {
            "tags": [],
            "needs_background": "light"
          }
        }
      ]
    },
    {
      "cell_type": "code",
      "metadata": {
        "colab": {
          "base_uri": "https://localhost:8080/",
          "height": 296
        },
        "id": "cNCEPYRgQDoe",
        "outputId": "af734d1c-395e-4f86-9cc3-0a9c1a9e2145"
      },
      "source": [
        "df = df[df['days.with.cr.line'] < 9000] \r\n",
        "sns.boxplot(x=df['days.with.cr.line'])"
      ],
      "execution_count": 11,
      "outputs": [
        {
          "output_type": "execute_result",
          "data": {
            "text/plain": [
              "<matplotlib.axes._subplots.AxesSubplot at 0x7f27064366d8>"
            ]
          },
          "metadata": {
            "tags": []
          },
          "execution_count": 11
        },
        {
          "output_type": "display_data",
          "data": {
            "image/png": "[encoded data removed]",
            "text/plain": [
              "<Figure size 432x288 with 1 Axes>"
            ]
          },
          "metadata": {
            "tags": [],
            "needs_background": "light"
          }
        }
      ]
    },
    {
      "cell_type": "code",
      "metadata": {
        "colab": {
          "base_uri": "https://localhost:8080/",
          "height": 296
        },
        "id": "3zV59kaaQIK8",
        "outputId": "858a8696-0c0e-4e1d-dd63-e12f030b0a5b"
      },
      "source": [
        "df = df[df['log.annual.inc'] < 12] \r\n",
        "df = df[df['log.annual.inc'] > 10] \r\n",
        "sns.boxplot(x=df['log.annual.inc'])"
      ],
      "execution_count": 12,
      "outputs": [
        {
          "output_type": "execute_result",
          "data": {
            "text/plain": [
              "<matplotlib.axes._subplots.AxesSubplot at 0x7f270665e048>"
            ]
          },
          "metadata": {
            "tags": []
          },
          "execution_count": 12
        },
        {
          "output_type": "display_data",
          "data": {
            "image/png": "[encoded data removed]",
            "text/plain": [
              "<Figure size 432x288 with 1 Axes>"
            ]
          },
          "metadata": {
            "tags": [],
            "needs_background": "light"
          }
        }
      ]
    },
    {
      "cell_type": "markdown",
      "metadata": {
        "id": "cC2wGCvyvlwa"
      },
      "source": [
        "Balancing data"
      ]
    },
    {
      "cell_type": "code",
      "metadata": {
        "colab": {
          "base_uri": "https://localhost:8080/"
        },
        "id": "8smV-ujdP0g0",
        "outputId": "4f64a58b-2265-46cc-8720-af3a642cd086"
      },
      "source": [
        "\r\n",
        "from sklearn.utils import resample\r\n",
        "\r\n",
        "# Separate majority and minority classes\r\n",
        "df_majority = df[df['not.fully.paid']==0]\r\n",
        "df_minority = df[df['not.fully.paid']==1]\r\n",
        "print(df_majority.shape)\r\n",
        "print(df_minority.shape)\r\n",
        " \r\n",
        "# Upsample minority class\r\n",
        "df_minority_upsampled = resample(df_minority, \r\n",
        "                                 replace=True,     # sample with replacement\r\n",
        "                                 n_samples=6494,    # to match majority class\r\n",
        "                                 random_state=123) # reproducible results\r\n",
        "\r\n",
        "# Combine majority class with upsampled minority class\r\n",
        "df_upsampled = pd.concat([df_majority, df_minority_upsampled])\r\n",
        " \r\n",
        "# Display new class counts\r\n",
        "print(\"New counts\")\r\n",
        "print(df_upsampled['not.fully.paid'].value_counts())\r\n",
        "df=df_upsampled\r\n",
        "#df.value_counts()"
      ],
      "execution_count": 13,
      "outputs": [
        {
          "output_type": "stream",
          "text": [
            "(6494, 14)\n",
            "(1141, 14)\n",
            "New counts\n",
            "1    6494\n",
            "0    6494\n",
            "Name: not.fully.paid, dtype: int64\n"
          ],
          "name": "stdout"
        }
      ]
    },
    {
      "cell_type": "markdown",
      "metadata": {
        "id": "4S-Ft5-kvpHu"
      },
      "source": [
        "Handling missing values"
      ]
    },
    {
      "cell_type": "code",
      "metadata": {
        "colab": {
          "base_uri": "https://localhost:8080/"
        },
        "id": "diMm0yCBQ1O-",
        "outputId": "ac3972fb-93a3-4d27-a53b-f9f541cc28a3"
      },
      "source": [
        "df['purpose'] = df['purpose'].fillna(df['purpose'].mode()[0])\r\n",
        "df['credit.policy'] =df['credit.policy'].fillna(df['credit.policy'].mode()[0])\r\n",
        "df['pub.rec'] = df['pub.rec'].fillna(df['pub.rec'].mode()[0])\r\n",
        "df['days.with.cr.line'] = df['days.with.cr.line'].fillna(df['days.with.cr.line'].mean())\r\n",
        "df['revol.bal'] = df['revol.bal'].fillna(df['revol.bal'].mean())\r\n",
        "df['revol.util'] = df['revol.util'].fillna(df['revol.util'].mean())\r\n",
        "df['log.annual.inc'] = df['log.annual.inc'].fillna(df['log.annual.inc'].mean())\r\n",
        "df['inq.last.6mths'] = df['inq.last.6mths'].fillna(df['inq.last.6mths'].mode()[0])\r\n",
        "df['delinq.2yrs'] = df['delinq.2yrs'].fillna(df['delinq.2yrs'].mode()[0])\r\n",
        "df['dti'] = df['dti'].fillna(df['dti'].mean())\r\n",
        "df.isnull().sum()"
      ],
      "execution_count": 14,
      "outputs": [
        {
          "output_type": "execute_result",
          "data": {
            "text/plain": [
              "credit.policy        0\n",
              "purpose              0\n",
              "int.rate             0\n",
              "installment          0\n",
              "log.annual.inc       0\n",
              "dti                  0\n",
              "fico                 0\n",
              "days.with.cr.line    0\n",
              "revol.bal            0\n",
              "revol.util           0\n",
              "inq.last.6mths       0\n",
              "delinq.2yrs          0\n",
              "pub.rec              0\n",
              "not.fully.paid       0\n",
              "dtype: int64"
            ]
          },
          "metadata": {
            "tags": []
          },
          "execution_count": 14
        }
      ]
    },
    {
      "cell_type": "markdown",
      "metadata": {
        "id": "d37R56mUvtO0"
      },
      "source": [
        "Scaling data"
      ]
    },
    {
      "cell_type": "code",
      "metadata": {
        "colab": {
          "base_uri": "https://localhost:8080/",
          "height": 195
        },
        "id": "kv9Odby5RAID",
        "outputId": "00a3fe7a-2601-472b-d4ed-16e7c7291411"
      },
      "source": [
        "df=(df-df.min())/(df.max()-df.min())\r\n",
        "df.head()"
      ],
      "execution_count": 15,
      "outputs": [
        {
          "output_type": "execute_result",
          "data": {
            "text/html": [
              "<div>\n",
              "<style scoped>\n",
              "    .dataframe tbody tr th:only-of-type {\n",
              "        vertical-align: middle;\n",
              "    }\n",
              "\n",
              "    .dataframe tbody tr th {\n",
              "        vertical-align: top;\n",
              "    }\n",
              "\n",
              "    .dataframe thead th {\n",
              "        text-align: right;\n",
              "    }\n",
              "</style>\n",
              "<table border=\"1\" class=\"dataframe\">\n",
              "  <thead>\n",
              "    <tr style=\"text-align: right;\">\n",
              "      <th></th>\n",
              "      <th>credit.policy</th>\n",
              "      <th>purpose</th>\n",
              "      <th>int.rate</th>\n",
              "      <th>installment</th>\n",
              "      <th>log.annual.inc</th>\n",
              "      <th>dti</th>\n",
              "      <th>fico</th>\n",
              "      <th>days.with.cr.line</th>\n",
              "      <th>revol.bal</th>\n",
              "      <th>revol.util</th>\n",
              "      <th>inq.last.6mths</th>\n",
              "      <th>delinq.2yrs</th>\n",
              "      <th>pub.rec</th>\n",
              "      <th>not.fully.paid</th>\n",
              "    </tr>\n",
              "  </thead>\n",
              "  <tbody>\n",
              "    <tr>\n",
              "      <th>1</th>\n",
              "      <td>1.0</td>\n",
              "      <td>0.166667</td>\n",
              "      <td>0.366252</td>\n",
              "      <td>0.310638</td>\n",
              "      <td>0.544025</td>\n",
              "      <td>0.477129</td>\n",
              "      <td>0.441860</td>\n",
              "      <td>0.292515</td>\n",
              "      <td>0.121422</td>\n",
              "      <td>0.644538</td>\n",
              "      <td>0.000000</td>\n",
              "      <td>0.0</td>\n",
              "      <td>0.0</td>\n",
              "      <td>0.0</td>\n",
              "    </tr>\n",
              "    <tr>\n",
              "      <th>2</th>\n",
              "      <td>1.0</td>\n",
              "      <td>0.333333</td>\n",
              "      <td>0.588647</td>\n",
              "      <td>0.513334</td>\n",
              "      <td>0.186964</td>\n",
              "      <td>0.388314</td>\n",
              "      <td>0.325581</td>\n",
              "      <td>0.513606</td>\n",
              "      <td>0.012679</td>\n",
              "      <td>0.215126</td>\n",
              "      <td>0.037037</td>\n",
              "      <td>0.0</td>\n",
              "      <td>0.0</td>\n",
              "      <td>0.0</td>\n",
              "    </tr>\n",
              "    <tr>\n",
              "      <th>3</th>\n",
              "      <td>1.0</td>\n",
              "      <td>0.333333</td>\n",
              "      <td>0.317263</td>\n",
              "      <td>0.214319</td>\n",
              "      <td>0.679193</td>\n",
              "      <td>0.270451</td>\n",
              "      <td>0.465116</td>\n",
              "      <td>0.285708</td>\n",
              "      <td>0.121581</td>\n",
              "      <td>0.615126</td>\n",
              "      <td>0.037037</td>\n",
              "      <td>0.0</td>\n",
              "      <td>0.0</td>\n",
              "      <td>0.0</td>\n",
              "    </tr>\n",
              "    <tr>\n",
              "      <th>4</th>\n",
              "      <td>1.0</td>\n",
              "      <td>0.166667</td>\n",
              "      <td>0.642302</td>\n",
              "      <td>0.127445</td>\n",
              "      <td>0.653660</td>\n",
              "      <td>0.499833</td>\n",
              "      <td>0.255814</td>\n",
              "      <td>0.440589</td>\n",
              "      <td>0.017117</td>\n",
              "      <td>0.331933</td>\n",
              "      <td>0.000000</td>\n",
              "      <td>0.1</td>\n",
              "      <td>0.0</td>\n",
              "      <td>0.0</td>\n",
              "    </tr>\n",
              "    <tr>\n",
              "      <th>5</th>\n",
              "      <td>1.0</td>\n",
              "      <td>0.166667</td>\n",
              "      <td>0.146190</td>\n",
              "      <td>0.159917</td>\n",
              "      <td>0.958614</td>\n",
              "      <td>0.566945</td>\n",
              "      <td>0.534884</td>\n",
              "      <td>0.673476</td>\n",
              "      <td>0.183478</td>\n",
              "      <td>0.428571</td>\n",
              "      <td>0.000000</td>\n",
              "      <td>0.0</td>\n",
              "      <td>0.0</td>\n",
              "      <td>0.0</td>\n",
              "    </tr>\n",
              "  </tbody>\n",
              "</table>\n",
              "</div>"
            ],
            "text/plain": [
              "   credit.policy   purpose  int.rate  ...  delinq.2yrs  pub.rec  not.fully.paid\n",
              "1            1.0  0.166667  0.366252  ...          0.0      0.0             0.0\n",
              "2            1.0  0.333333  0.588647  ...          0.0      0.0             0.0\n",
              "3            1.0  0.333333  0.317263  ...          0.0      0.0             0.0\n",
              "4            1.0  0.166667  0.642302  ...          0.1      0.0             0.0\n",
              "5            1.0  0.166667  0.146190  ...          0.0      0.0             0.0\n",
              "\n",
              "[5 rows x 14 columns]"
            ]
          },
          "metadata": {
            "tags": []
          },
          "execution_count": 15
        }
      ]
    },
    {
      "cell_type": "code",
      "metadata": {
        "colab": {
          "base_uri": "https://localhost:8080/"
        },
        "id": "d0ne_Nx7RD6g",
        "outputId": "7cf6e2ba-c525-4454-db0c-f2e48af992a6"
      },
      "source": [
        "X = df.iloc[:,0:13]  \r\n",
        "y = df.iloc[:,-1]  \r\n",
        "print(X.head())\r\n",
        "print(\"Samples: \",X.shape[0])\r\n",
        "print(\"Features: \",X.shape[1])"
      ],
      "execution_count": 16,
      "outputs": [
        {
          "output_type": "stream",
          "text": [
            "   credit.policy   purpose  int.rate  ...  inq.last.6mths  delinq.2yrs  pub.rec\n",
            "1            1.0  0.166667  0.366252  ...        0.000000          0.0      0.0\n",
            "2            1.0  0.333333  0.588647  ...        0.037037          0.0      0.0\n",
            "3            1.0  0.333333  0.317263  ...        0.037037          0.0      0.0\n",
            "4            1.0  0.166667  0.642302  ...        0.000000          0.1      0.0\n",
            "5            1.0  0.166667  0.146190  ...        0.000000          0.0      0.0\n",
            "\n",
            "[5 rows x 13 columns]\n",
            "Samples:  12988\n",
            "Features:  13\n"
          ],
          "name": "stdout"
        }
      ]
    },
    {
      "cell_type": "markdown",
      "metadata": {
        "id": "tgGPX_uPvxB4"
      },
      "source": [
        "Feature Importance"
      ]
    },
    {
      "cell_type": "code",
      "metadata": {
        "colab": {
          "base_uri": "https://localhost:8080/",
          "height": 330
        },
        "id": "qDDXxyFjRSnh",
        "outputId": "bdbfe3af-82f7-43f8-9e8e-74b22c1ce17d"
      },
      "source": [
        "model = ExtraTreesClassifier()\r\n",
        "model.fit(X,y)\r\n",
        "print(model.feature_importances_) #use inbuilt class feature_importances of tree based classifiers\r\n",
        "#plot graph of feature importances for better visualization\r\n",
        "feat_importances = pd.Series(model.feature_importances_, index=X.columns)\r\n",
        "feat_importances.nlargest(13).plot(kind='barh')\r\n",
        "plt.xlabel(\"Feature Importance\")\r\n",
        "plt.show()"
      ],
      "execution_count": 17,
      "outputs": [
        {
          "output_type": "stream",
          "text": [
            "[0.03338584 0.06650555 0.11024509 0.09759363 0.09684438 0.0922604\n",
            " 0.10090476 0.09397757 0.0900846  0.10037644 0.0743358  0.02782096\n",
            " 0.01566499]\n"
          ],
          "name": "stdout"
        },
        {
          "output_type": "display_data",
          "data": {
            "image/png": "[encoded data removed]",
            "text/plain": [
              "<Figure size 432x288 with 1 Axes>"
            ]
          },
          "metadata": {
            "tags": [],
            "needs_background": "light"
          }
        }
      ]
    },
    {
      "cell_type": "markdown",
      "metadata": {
        "id": "Z_sa4CGZvz4A"
      },
      "source": [
        "Grid Search"
      ]
    },
    {
      "cell_type": "code",
      "metadata": {
        "colab": {
          "base_uri": "https://localhost:8080/",
          "height": 503
        },
        "id": "P2aG833DHax9",
        "outputId": "cd0ced9f-617a-4a18-cb85-8f79e4f06ecc"
      },
      "source": [
        "params = {'n_neighbors': [3, 5, 7, 9, 11],'weights':['uniform','distance'],'metric':['euclidean','manhattan']}\r\n",
        "from sklearn.model_selection import train_test_split\r\n",
        "from sklearn.neighbors import KNeighborsClassifier\r\n",
        "from sklearn.metrics import confusion_matrix\r\n",
        "from sklearn.model_selection import GridSearchCV\r\n",
        "model=KNeighborsClassifier()\r\n",
        "Xtrain,Xtest,ytrain,ytest=train_test_split(X,y,test_size=0.30,random_state=42,stratify=y)\r\n",
        "grid = GridSearchCV(estimator=model,param_grid=params, cv=5 ,scoring = 'roc_auc') # Turn on cv train scores\r\n",
        "grid.fit(Xtrain, ytrain)\r\n",
        "y_pred=grid.predict(Xtest)\r\n",
        "array=confusion_matrix(ytest, y_pred)\r\n",
        "df_cm = pd.DataFrame(array, range(2), range(2))\r\n",
        "plt.figure(figsize=(10,7))\r\n",
        "sn.set(font_scale=1.4) # for label size\r\n",
        "sn.heatmap(df_cm, annot=True, annot_kws={\"size\": 16}) # font size\r\n",
        "plt.show()\r\n",
        "print(grid.best_score_)\r\n",
        "print(grid.best_estimator_)\r\n"
      ],
      "execution_count": 22,
      "outputs": [
        {
          "output_type": "display_data",
          "data": {
            "image/png": "[encoded data removed]",
            "text/plain": [
              "<Figure size 720x504 with 2 Axes>"
            ]
          },
          "metadata": {
            "tags": []
          }
        },
        {
          "output_type": "stream",
          "text": [
            "0.9795081581684201\n",
            "KNeighborsClassifier(algorithm='auto', leaf_size=30, metric='euclidean',\n",
            "                     metric_params=None, n_jobs=None, n_neighbors=11, p=2,\n",
            "                     weights='distance')\n"
          ],
          "name": "stdout"
        }
      ]
    },
    {
      "cell_type": "code",
      "metadata": {
        "id": "Mse1jGk7awLk"
      },
      "source": [
        "# Number of trees in random forest\r\n",
        "n_estimators = [int(x) for x in np.linspace(start = 200, stop = 2000, num = 10)]\r\n",
        "# Number of features to consider at every split\r\n",
        "max_features = ['auto', 'sqrt']\r\n",
        "# Maximum number of levels in tree\r\n",
        "max_depth = [int(x) for x in np.linspace(50, 110, num = 11)]\r\n",
        "max_depth.append(None)\r\n",
        "# Minimum number of samples required to split a node\r\n",
        "min_samples_split = [2, 5, 10]\r\n",
        "# Minimum number of samples required at each leaf node\r\n",
        "min_samples_leaf = [1, 2, 4]\r\n",
        "# Method of selecting samples for training each tree\r\n",
        "bootstrap = [True, False]\r\n",
        "params = {'n_estimators': n_estimators,\r\n",
        "               'max_features': max_features,\r\n",
        "               'max_depth': max_depth,\r\n",
        "               'min_samples_split': min_samples_split}\r\n",
        "from sklearn.ensemble import RandomForestClassifier\r\n",
        "model=RandomForestClassifier()\r\n",
        "Xtrain,Xtest,ytrain,ytest=train_test_split(X,y,test_size=0.30,random_state=42,stratify=y)\r\n",
        "grid = GridSearchCV(estimator=model,param_grid=params, cv=5 ,scoring = 'roc_auc') # Turn on cv train scores\r\n",
        "grid.fit(Xtrain, ytrain)\r\n",
        "y_pred=grid.predict(Xtest)\r\n",
        "array=confusion_matrix(ytest, y_pred)\r\n",
        "df_cm = pd.DataFrame(array, range(2), range(2))\r\n",
        "plt.figure(figsize=(10,7))\r\n",
        "sn.set(font_scale=1.4) # for label size\r\n",
        "sn.heatmap(df_cm, annot=True, annot_kws={\"size\": 16}) # font size\r\n",
        "plt.show()\r\n",
        "print(grid.best_score_)\r\n",
        "print(grid.best_estimator_)"
      ],
      "execution_count": null,
      "outputs": []
    },
    {
      "cell_type": "code",
      "metadata": {
        "colab": {
          "base_uri": "https://localhost:8080/",
          "height": 537
        },
        "id": "N2PQQCMBXM8o",
        "outputId": "d4e92286-c729-4062-c192-d9d66940b5ca"
      },
      "source": [
        "from sklearn.model_selection import GridSearchCV\r\n",
        "from sklearn.linear_model import LogisticRegression\r\n",
        "import seaborn as sn\r\n",
        "import pandas as pd\r\n",
        "import matplotlib.pyplot as plt\r\n",
        "clf = LogisticRegression()\r\n",
        "grid_values = {'penalty': ['l2'],'C':[0.1,0.25,0.5,0.9,1,5,10,15],'max_iter':[100,200,300,400]}\r\n",
        "grid = GridSearchCV(clf, param_grid = grid_values,scoring = 'roc_auc')\r\n",
        "grid.fit(Xtrain, ytrain)\r\n",
        "from sklearn.metrics import confusion_matrix\r\n",
        "y_pred=grid.predict(Xtest)\r\n",
        "array=confusion_matrix(ytest, y_pred)\r\n",
        "df_cm = pd.DataFrame(array, range(2), range(2))\r\n",
        "plt.figure(figsize=(10,7))\r\n",
        "sn.set(font_scale=1.4) # for label size\r\n",
        "sn.heatmap(df_cm, annot=True, annot_kws={\"size\": 16}) # font size\r\n",
        "plt.show()\r\n",
        "print(grid.best_score_)\r\n",
        "print(grid.best_estimator_)"
      ],
      "execution_count": 21,
      "outputs": [
        {
          "output_type": "display_data",
          "data": {
            "image/png": "[encoded data removed]",
            "text/plain": [
              "<Figure size 720x504 with 2 Axes>"
            ]
          },
          "metadata": {
            "tags": [],
            "needs_background": "light"
          }
        },
        {
          "output_type": "stream",
          "text": [
            "0.6714553199054718\n",
            "LogisticRegression(C=5, class_weight=None, dual=False, fit_intercept=True,\n",
            "                   intercept_scaling=1, l1_ratio=None, max_iter=100,\n",
            "                   multi_class='auto', n_jobs=None, penalty='l2',\n",
            "                   random_state=None, solver='lbfgs', tol=0.0001, verbose=0,\n",
            "                   warm_start=False)\n"
          ],
          "name": "stdout"
        }
      ]
    },
    {
      "cell_type": "code",
      "metadata": {
        "id": "0iwh8jyfJ7Aq"
      },
      "source": [
        "params = {\r\n",
        "        'min_child_weight': [1, 5, 10],\r\n",
        "        'gamma': [0.5, 1, 1.5, 2, 5],\r\n",
        "        'subsample': [0.6, 0.8, 1.0],\r\n",
        "        'colsample_bytree': [0.6, 0.8, 1.0],\r\n",
        "        'max_depth': [3, 4, 5]\r\n",
        "        }\r\n",
        "from xgboost import XGBClassifier\r\n",
        "#from sklearn.ensemble import GradientBoostingClassifier\r\n",
        "model=XGBClassifier(learning_rate=0.02, n_estimators=600, objective='binary:logistic',\r\n",
        "                    silent=True, nthread=1)\r\n",
        "Xtrain,Xtest,ytrain,ytest=train_test_split(X,y,test_size=0.30,random_state=42,stratify=y)\r\n",
        "grid = GridSearchCV(estimator=model,param_grid=params, cv=5 ,scoring = 'roc_auc') # Turn on cv train scores\r\n",
        "grid.fit(Xtrain, ytrain)\r\n",
        "y_pred=grid.predict(Xtest)\r\n",
        "array=confusion_matrix(ytest, y_pred)\r\n",
        "df_cm = pd.DataFrame(array, range(2), range(2))\r\n",
        "plt.figure(figsize=(10,7))\r\n",
        "sn.set(font_scale=1.4) # for label size\r\n",
        "sn.heatmap(df_cm, annot=True, annot_kws={\"size\": 16}) # font size\r\n",
        "plt.show()\r\n",
        "print(grid.best_score_)\r\n",
        "print(grid.best_estimator_)"
      ],
      "execution_count": null,
      "outputs": []
    },
    {
      "cell_type": "code",
      "metadata": {
        "colab": {
          "base_uri": "https://localhost:8080/",
          "height": 722
        },
        "id": "tVE2gJ6EFmVJ",
        "outputId": "c6696b9f-c0bc-4a56-dcc1-e50631060334"
      },
      "source": [
        "param_grid = {\"learning_rate\": [0.5,0.6,0.9,1],\r\n",
        "              \"n_estimators\": [1, 2]\r\n",
        "             }\r\n",
        "from sklearn.tree import DecisionTreeClassifier\r\n",
        "from sklearn.ensemble import AdaBoostClassifier\r\n",
        "Xtrain,Xtest,ytrain,ytest=train_test_split(X,y,test_size=0.30,random_state=42,stratify=y)\r\n",
        "DTC = DecisionTreeClassifier(random_state = 11, max_features = \"auto\", class_weight = \"balanced\",max_depth = None)\r\n",
        "ABC = AdaBoostClassifier(base_estimator = DTC)\r\n",
        "# run grid search\r\n",
        "grid_search = GridSearchCV(ABC, param_grid=param_grid, scoring = 'roc_auc')\r\n",
        "grid_search.fit(Xtrain, ytrain)\r\n",
        "y_pred=grid_search.predict(Xtest)\r\n",
        "array=confusion_matrix(ytest, y_pred)\r\n",
        "df_cm = pd.DataFrame(array, range(2), range(2))\r\n",
        "plt.figure(figsize=(10,7))\r\n",
        "sn.set(font_scale=1.4) # for label size\r\n",
        "sn.heatmap(df_cm, annot=True, annot_kws={\"size\": 16}) # font size\r\n",
        "plt.show()\r\n",
        "print(grid_search.best_score_)\r\n",
        "print(grid_search.best_estimator_)"
      ],
      "execution_count": 29,
      "outputs": [
        {
          "output_type": "display_data",
          "data": {
            "image/png": "[encoded data removed]",
            "text/plain": [
              "<Figure size 720x504 with 2 Axes>"
            ]
          },
          "metadata": {
            "tags": []
          }
        },
        {
          "output_type": "stream",
          "text": [
            "0.884052273359204\n",
            "AdaBoostClassifier(algorithm='SAMME.R',\n",
            "                   base_estimator=DecisionTreeClassifier(ccp_alpha=0.0,\n",
            "                                                         class_weight='balanced',\n",
            "                                                         criterion='gini',\n",
            "                                                         max_depth=None,\n",
            "                                                         max_features='auto',\n",
            "                                                         max_leaf_nodes=None,\n",
            "                                                         min_impurity_decrease=0.0,\n",
            "                                                         min_impurity_split=None,\n",
            "                                                         min_samples_leaf=1,\n",
            "                                                         min_samples_split=2,\n",
            "                                                         min_weight_fraction_leaf=0.0,\n",
            "                                                         presort='deprecated',\n",
            "                                                         random_state=11,\n",
            "                                                         splitter='best'),\n",
            "                   learning_rate=0.6, n_estimators=1, random_state=None)\n"
          ],
          "name": "stdout"
        }
      ]
    },
    {
      "cell_type": "code",
      "metadata": {
        "colab": {
          "base_uri": "https://localhost:8080/",
          "height": 450
        },
        "id": "dNofTMLke1hE",
        "outputId": "6552568c-1046-430f-a0d7-d0bebdf3a94a"
      },
      "source": [
        "params={'criterion':['gini','entropy'],'max_depth':[4,5,6,7,8,9,10,11,12,15,20,30,40,50,70,90,120,150]}\r\n",
        "from sklearn.tree import DecisionTreeClassifier\r\n",
        "from sklearn.ensemble import RandomForestClassifier\r\n",
        "from sklearn.metrics import accuracy_score\r\n",
        "model=DecisionTreeClassifier()\r\n",
        "Xtrain,Xtest,ytrain,ytest=train_test_split(X,y,test_size=0.30,random_state=42,stratify=y)\r\n",
        "grid = GridSearchCV(estimator=model,param_grid=params, cv=5 ,scoring = 'roc_auc') # Turn on cv train scores\r\n",
        "grid.fit(Xtrain, ytrain)\r\n",
        "print(grid.best_score_)\r\n",
        "print(grid.best_estimator_)\r\n",
        "arr=[]\r\n",
        "for i in [4,5,6,7,8,9,10,11,12,15,20,30,40,50,70,90,120,150]:\r\n",
        "  #model=DecisionTreeClassifier(max_depth=i)\r\n",
        "  model = DecisionTreeClassifier(max_depth=i).fit(Xtrain, ytrain)\r\n",
        "  ypred = model.predict(Xtest)\r\n",
        "  acc=accuracy_score(ytest, ypred)\r\n",
        "  arr.append(acc)\r\n",
        "plt.xlabel(\"Max Depth\")\r\n",
        "plt.ylabel(\"Accuracy\")\r\n",
        "plt.title(\"DecisionTreeClassifier\")\r\n",
        "plt.plot([4,5,6,7,8,9,10,11,12,15,20,30,40,50,70,90,120,150], arr)"
      ],
      "execution_count": 31,
      "outputs": [
        {
          "output_type": "stream",
          "text": [
            "0.8766804482646066\n",
            "DecisionTreeClassifier(ccp_alpha=0.0, class_weight=None, criterion='entropy',\n",
            "                       max_depth=150, max_features=None, max_leaf_nodes=None,\n",
            "                       min_impurity_decrease=0.0, min_impurity_split=None,\n",
            "                       min_samples_leaf=1, min_samples_split=2,\n",
            "                       min_weight_fraction_leaf=0.0, presort='deprecated',\n",
            "                       random_state=None, splitter='best')\n"
          ],
          "name": "stdout"
        },
        {
          "output_type": "execute_result",
          "data": {
            "text/plain": [
              "[<matplotlib.lines.Line2D at 0x7f2707da6ba8>]"
            ]
          },
          "metadata": {
            "tags": []
          },
          "execution_count": 31
        },
        {
          "output_type": "display_data",
          "data": {
            "image/png": "[encoded data removed]",
            "text/plain": [
              "<Figure size 432x288 with 1 Axes>"
            ]
          },
          "metadata": {
            "tags": []
          }
        }
      ]
    },
    {
      "cell_type": "markdown",
      "metadata": {
        "id": "4KTXl47Mv7W1"
      },
      "source": [
        "SVM"
      ]
    },
    {
      "cell_type": "code",
      "metadata": {
        "colab": {
          "base_uri": "https://localhost:8080/"
        },
        "id": "7ZCiKjxy0epu",
        "outputId": "5a65f833-963d-4368-c6ea-8765de4f65a7"
      },
      "source": [
        "#Import svm model\n",
        "def show_metrics(y_true, y_score):\n",
        "    # True positive\n",
        "    tp = np.sum(y_true * y_score)\n",
        "    # False positive\n",
        "    fp = np.sum((y_true == 0) * y_score)\n",
        "    # True negative\n",
        "    tn = np.sum((y_true==0) * (y_score==0))\n",
        "    # False negative\n",
        "    fn = np.sum(y_true * (y_score==0))\n",
        "\n",
        "    # True positive rate (sensitivity or recall)\n",
        "    tpr = tp / (tp + fn)\n",
        "    # False positive rate (fall-out)\n",
        "    fpr = fp / (fp + tn)\n",
        "    # Precision\n",
        "    precision = tp / (tp + fp)\n",
        "    # True negatvie tate (specificity)\n",
        "    tnr = 1 - fpr\n",
        "    # F1 score\n",
        "    f1 = 2*tp / (2*tp + fp + fn)\n",
        "    # ROC-AUC for binary classification\n",
        "    auc = (tpr+tnr) / 2\n",
        "    # MCC\n",
        "    mcc = (tp * tn - fp * fn) / np.sqrt((tp + fp) * (tp + fn) * (tn + fp) * (tn + fn))\n",
        "    print(\"True positive rate (recall): \", tpr)\n",
        "    print(\"False positive rate: \", fpr)\n",
        "    print(\"Precision: \", precision)\n",
        "    print(\"True negative rate: \", tnr)\n",
        "    print(\"F1: \", f1)\n",
        "    print(\"ROC-AUC: \", auc)\n",
        "    print(\"MCC: \", mcc)\n",
        "from sklearn import svm\n",
        "Xtrain,Xtest,ytrain,ytest=train_test_split(X,y,test_size=0.30,random_state=42,stratify=y)\n",
        "#Create a svm Classifier\n",
        "clf = svm.SVC(kernel='linear') # Linear Kernel\n",
        "\n",
        "#Train the model using the training sets\n",
        "clf.fit(Xtrain, ytrain)\n",
        "\n",
        "#Predict the response for test dataset\n",
        "y_pred = clf.predict(Xtest)\n",
        "\n",
        "#Import scikit-learn metrics module for accuracy calculation\n",
        "from sklearn import metrics\n",
        "\n",
        "# Model Accuracy: how often is the classifier correct?\n",
        "print(\"Accuracy:\",metrics.accuracy_score(ytest, y_pred))\n",
        "show_metrics(ytest, (y_pred > 0.5).astype(np.int))"
      ],
      "execution_count": 33,
      "outputs": [
        {
          "output_type": "stream",
          "text": [
            "Accuracy: 0.6096997690531177\n",
            "True positive rate (recall):  0.5908624229979466\n",
            "False positive rate:  0.37147255002565416\n",
            "Precision:  0.6138666666666667\n",
            "True negative rate:  0.6285274499743458\n",
            "F1:  0.6021449123724824\n",
            "ROC-AUC:  0.6096949364861461\n",
            "MCC:  0.21954611724901202\n"
          ],
          "name": "stdout"
        },
        {
          "output_type": "stream",
          "text": [
            "/usr/local/lib/python3.6/dist-packages/pandas/core/computation/expressions.py:204: UserWarning: evaluating in Python space because the '*' operator is not supported by numexpr for the bool dtype, use '&' instead\n",
            "  f\"evaluating in Python space because the {repr(op_str)} \"\n"
          ],
          "name": "stderr"
        }
      ]
    },
    {
      "cell_type": "code",
      "metadata": {
        "colab": {
          "base_uri": "https://localhost:8080/",
          "height": 332
        },
        "id": "qH0HAmEQjkgp",
        "outputId": "a223e6e3-a967-4e70-9981-f51fbbf8328c"
      },
      "source": [
        "arr=[]\r\n",
        "from sklearn.ensemble import RandomForestClassifier\r\n",
        "from sklearn import metrics\r\n",
        "from sklearn.metrics import accuracy_score\r\n",
        "for i in [4,5,6,7,8,9,10,11,12,15,20,30,40,50,70,90,120,150]:\r\n",
        "  #model=DecisionTreeClassifier(max_depth=i)\r\n",
        "  model = RandomForestClassifier(max_depth=i).fit(Xtrain, ytrain)\r\n",
        "  ypred = model.predict(Xtest)\r\n",
        "  acc=accuracy_score(ytest, ypred)\r\n",
        "  arr.append(acc)\r\n",
        "plt.xlabel(\"Max Depth\")\r\n",
        "plt.ylabel(\"Accuracy\")\r\n",
        "plt.title(\"Random Forest Classifier\")\r\n",
        "plt.plot([4,5,6,7,8,9,10,11,12,15,20,30,40,50,70,90,120,150], arr)"
      ],
      "execution_count": 34,
      "outputs": [
        {
          "output_type": "execute_result",
          "data": {
            "text/plain": [
              "[<matplotlib.lines.Line2D at 0x7f2707da65f8>]"
            ]
          },
          "metadata": {
            "tags": []
          },
          "execution_count": 34
        },
        {
          "output_type": "display_data",
          "data": {
            "image/png": "[encoded data removed]",
            "text/plain": [
              "<Figure size 432x288 with 1 Axes>"
            ]
          },
          "metadata": {
            "tags": []
          }
        }
      ]
    },
    {
      "cell_type": "markdown",
      "metadata": {
        "id": "7wW0j2A8v_hW"
      },
      "source": [
        "Feature Importance for random forest"
      ]
    },
    {
      "cell_type": "code",
      "metadata": {
        "colab": {
          "base_uri": "https://localhost:8080/",
          "height": 340
        },
        "id": "j8_lwNCwkZUg",
        "outputId": "b5efd543-abe9-4a59-8436-89feb89b62d0"
      },
      "source": [
        "model = RandomForestClassifier(max_depth=i).fit(Xtrain, ytrain)\r\n",
        "print(model.feature_importances_)\r\n",
        "plt.barh(['credit.policy','purpose',\t'int.rate'\t,'installment'\t,'log.annual.inc'\t,'dti'\t,'fico',\t'days.with.cr.line'\t,'revol.bal'\t,'revol.util'\t,'inq.last.6mths'\t,'delinq.2yrs'\t,'pub.rec'], model.feature_importances_)"
      ],
      "execution_count": 35,
      "outputs": [
        {
          "output_type": "stream",
          "text": [
            "[0.01909206 0.04147181 0.12212472 0.11053803 0.10600213 0.10968025\n",
            " 0.08560675 0.11320615 0.10823162 0.10829037 0.05464059 0.01305811\n",
            " 0.00805743]\n"
          ],
          "name": "stdout"
        },
        {
          "output_type": "execute_result",
          "data": {
            "text/plain": [
              "<BarContainer object of 13 artists>"
            ]
          },
          "metadata": {
            "tags": []
          },
          "execution_count": 35
        },
        {
          "output_type": "display_data",
          "data": {
            "image/png": "[encoded data removed]",
            "text/plain": [
              "<Figure size 432x288 with 1 Axes>"
            ]
          },
          "metadata": {
            "tags": []
          }
        }
      ]
    },
    {
      "cell_type": "markdown",
      "metadata": {
        "id": "MXjNwSfJwDRz"
      },
      "source": [
        "Decision Tree Split visualisation"
      ]
    },
    {
      "cell_type": "code",
      "metadata": {
        "colab": {
          "base_uri": "https://localhost:8080/",
          "height": 538
        },
        "id": "Uc0fgPQieBAm",
        "outputId": "f8bd05c1-3e9a-4d77-f9d0-16c137295b0a"
      },
      "source": [
        "import graphviz \r\n",
        "from sklearn import tree\r\n",
        "Xtrain,Xtest,ytrain,ytest=train_test_split(X,y,test_size=0.30,random_state=42,stratify=y)\r\n",
        "tree_clf = tree.DecisionTreeClassifier(max_depth = 3)\r\n",
        "tree_clf.fit(Xtrain,ytrain)\r\n",
        "dot_data = tree.export_graphviz(tree_clf,feature_names = ['credit.policy','purpose',\t'int.rate'\t,'installment'\t,'log.annual.inc'\t,'dti'\t,'fico',\t'days.with.cr.line'\t,'revol.bal'\t,'revol.util'\t,'inq.last.6mths'\t,'delinq.2yrs'\t,'pub.rec'])\r\n",
        "graph = graphviz.Source(dot_data)\r\n",
        "graph"
      ],
      "execution_count": 36,
      "outputs": [
        {
          "output_type": "execute_result",
          "data": {
            "text/plain": [
              "<graphviz.files.Source at 0x7f26f62987b8>"
            ],
            "image/svg+xml": "<?xml version=\"1.0\" encoding=\"UTF-8\" standalone=\"no\"?>\n<!DOCTYPE svg PUBLIC \"-//W3C//DTD SVG 1.1//EN\"\n \"http://www.w3.org/Graphics/SVG/1.1/DTD/svg11.dtd\">\n<!-- Generated by graphviz version 2.40.1 (20161225.0304)\n -->\n<!-- Title: Tree Pages: 1 -->\n<svg width=\"1112pt\" height=\"373pt\"\n viewBox=\"0.00 0.00 1112.00 373.00\" xmlns=\"http://www.w3.org/2000/svg\" xmlns:xlink=\"http://www.w3.org/1999/xlink\">\n<g id=\"graph0\" class=\"graph\" transform=\"scale(1 1) rotate(0) translate(4 369)\">\n<title>Tree</title>\n<polygon fill=\"#ffffff\" stroke=\"transparent\" points=\"-4,4 -4,-369 1108,-369 1108,4 -4,4\"/>\n<!-- 0 -->\n<g id=\"node1\" class=\"node\">\n<title>0</title>\n<polygon fill=\"none\" stroke=\"#000000\" points=\"575.5,-365 435.5,-365 435.5,-297 575.5,-297 575.5,-365\"/>\n<text text-anchor=\"middle\" x=\"505.5\" y=\"-349.8\" font-family=\"Times,serif\" font-size=\"14.00\" fill=\"#000000\">int.rate &lt;= 0.259</text>\n<text text-anchor=\"middle\" x=\"505.5\" y=\"-334.8\" font-family=\"Times,serif\" font-size=\"14.00\" fill=\"#000000\">gini = 0.5</text>\n<text text-anchor=\"middle\" x=\"505.5\" y=\"-319.8\" font-family=\"Times,serif\" font-size=\"14.00\" fill=\"#000000\">samples = 9091</text>\n<text text-anchor=\"middle\" x=\"505.5\" y=\"-304.8\" font-family=\"Times,serif\" font-size=\"14.00\" fill=\"#000000\">value = [4545, 4546]</text>\n</g>\n<!-- 1 -->\n<g id=\"node2\" class=\"node\">\n<title>1</title>\n<polygon fill=\"none\" stroke=\"#000000\" points=\"489.5,-261 363.5,-261 363.5,-193 489.5,-193 489.5,-261\"/>\n<text text-anchor=\"middle\" x=\"426.5\" y=\"-245.8\" font-family=\"Times,serif\" font-size=\"14.00\" fill=\"#000000\">revol.util &lt;= 0.236</text>\n<text text-anchor=\"middle\" x=\"426.5\" y=\"-230.8\" font-family=\"Times,serif\" font-size=\"14.00\" fill=\"#000000\">gini = 0.337</text>\n<text text-anchor=\"middle\" x=\"426.5\" y=\"-215.8\" font-family=\"Times,serif\" font-size=\"14.00\" fill=\"#000000\">samples = 1178</text>\n<text text-anchor=\"middle\" x=\"426.5\" y=\"-200.8\" font-family=\"Times,serif\" font-size=\"14.00\" fill=\"#000000\">value = [925, 253]</text>\n</g>\n<!-- 0&#45;&gt;1 -->\n<g id=\"edge1\" class=\"edge\">\n<title>0&#45;&gt;1</title>\n<path fill=\"none\" stroke=\"#000000\" d=\"M479.6324,-296.9465C472.8804,-288.0578 465.5226,-278.3716 458.4941,-269.1188\"/>\n<polygon fill=\"#000000\" stroke=\"#000000\" points=\"461.2617,-266.976 452.4257,-261.13 455.6875,-271.2102 461.2617,-266.976\"/>\n<text text-anchor=\"middle\" x=\"449.0418\" y=\"-282.1999\" font-family=\"Times,serif\" font-size=\"14.00\" fill=\"#000000\">True</text>\n</g>\n<!-- 8 -->\n<g id=\"node9\" class=\"node\">\n<title>8</title>\n<polygon fill=\"none\" stroke=\"#000000\" points=\"697.5,-261 557.5,-261 557.5,-193 697.5,-193 697.5,-261\"/>\n<text text-anchor=\"middle\" x=\"627.5\" y=\"-245.8\" font-family=\"Times,serif\" font-size=\"14.00\" fill=\"#000000\">credit.policy &lt;= 0.5</text>\n<text text-anchor=\"middle\" x=\"627.5\" y=\"-230.8\" font-family=\"Times,serif\" font-size=\"14.00\" fill=\"#000000\">gini = 0.496</text>\n<text text-anchor=\"middle\" x=\"627.5\" y=\"-215.8\" font-family=\"Times,serif\" font-size=\"14.00\" fill=\"#000000\">samples = 7913</text>\n<text text-anchor=\"middle\" x=\"627.5\" y=\"-200.8\" font-family=\"Times,serif\" font-size=\"14.00\" fill=\"#000000\">value = [3620, 4293]</text>\n</g>\n<!-- 0&#45;&gt;8 -->\n<g id=\"edge8\" class=\"edge\">\n<title>0&#45;&gt;8</title>\n<path fill=\"none\" stroke=\"#000000\" d=\"M545.4474,-296.9465C556.4012,-287.6088 568.3873,-277.3911 579.732,-267.7203\"/>\n<polygon fill=\"#000000\" stroke=\"#000000\" points=\"582.1233,-270.2809 587.4629,-261.13 577.5821,-264.9538 582.1233,-270.2809\"/>\n<text text-anchor=\"middle\" x=\"585.478\" y=\"-282.3511\" font-family=\"Times,serif\" font-size=\"14.00\" fill=\"#000000\">False</text>\n</g>\n<!-- 2 -->\n<g id=\"node3\" class=\"node\">\n<title>2</title>\n<polygon fill=\"none\" stroke=\"#000000\" points=\"271.5,-157 115.5,-157 115.5,-89 271.5,-89 271.5,-157\"/>\n<text text-anchor=\"middle\" x=\"193.5\" y=\"-141.8\" font-family=\"Times,serif\" font-size=\"14.00\" fill=\"#000000\">log.annual.inc &lt;= 0.346</text>\n<text text-anchor=\"middle\" x=\"193.5\" y=\"-126.8\" font-family=\"Times,serif\" font-size=\"14.00\" fill=\"#000000\">gini = 0.243</text>\n<text text-anchor=\"middle\" x=\"193.5\" y=\"-111.8\" font-family=\"Times,serif\" font-size=\"14.00\" fill=\"#000000\">samples = 708</text>\n<text text-anchor=\"middle\" x=\"193.5\" y=\"-96.8\" font-family=\"Times,serif\" font-size=\"14.00\" fill=\"#000000\">value = [608, 100]</text>\n</g>\n<!-- 1&#45;&gt;2 -->\n<g id=\"edge2\" class=\"edge\">\n<title>1&#45;&gt;2</title>\n<path fill=\"none\" stroke=\"#000000\" d=\"M363.4468,-198.8561C337.5346,-187.2901 307.1184,-173.7138 279.235,-161.268\"/>\n<polygon fill=\"#000000\" stroke=\"#000000\" points=\"280.4444,-157.975 269.8862,-157.0951 277.5912,-164.3672 280.4444,-157.975\"/>\n</g>\n<!-- 5 -->\n<g id=\"node6\" class=\"node\">\n<title>5</title>\n<polygon fill=\"none\" stroke=\"#000000\" points=\"489,-157 364,-157 364,-89 489,-89 489,-157\"/>\n<text text-anchor=\"middle\" x=\"426.5\" y=\"-141.8\" font-family=\"Times,serif\" font-size=\"14.00\" fill=\"#000000\">purpose &lt;= 0.083</text>\n<text text-anchor=\"middle\" x=\"426.5\" y=\"-126.8\" font-family=\"Times,serif\" font-size=\"14.00\" fill=\"#000000\">gini = 0.439</text>\n<text text-anchor=\"middle\" x=\"426.5\" y=\"-111.8\" font-family=\"Times,serif\" font-size=\"14.00\" fill=\"#000000\">samples = 470</text>\n<text text-anchor=\"middle\" x=\"426.5\" y=\"-96.8\" font-family=\"Times,serif\" font-size=\"14.00\" fill=\"#000000\">value = [317, 153]</text>\n</g>\n<!-- 1&#45;&gt;5 -->\n<g id=\"edge5\" class=\"edge\">\n<title>1&#45;&gt;5</title>\n<path fill=\"none\" stroke=\"#000000\" d=\"M426.5,-192.9465C426.5,-184.776 426.5,-175.9318 426.5,-167.3697\"/>\n<polygon fill=\"#000000\" stroke=\"#000000\" points=\"430.0001,-167.13 426.5,-157.13 423.0001,-167.13 430.0001,-167.13\"/>\n</g>\n<!-- 3 -->\n<g id=\"node4\" class=\"node\">\n<title>3</title>\n<polygon fill=\"none\" stroke=\"#000000\" points=\"117,-53 0,-53 0,0 117,0 117,-53\"/>\n<text text-anchor=\"middle\" x=\"58.5\" y=\"-37.8\" font-family=\"Times,serif\" font-size=\"14.00\" fill=\"#000000\">gini = 0.379</text>\n<text text-anchor=\"middle\" x=\"58.5\" y=\"-22.8\" font-family=\"Times,serif\" font-size=\"14.00\" fill=\"#000000\">samples = 256</text>\n<text text-anchor=\"middle\" x=\"58.5\" y=\"-7.8\" font-family=\"Times,serif\" font-size=\"14.00\" fill=\"#000000\">value = [191, 65]</text>\n</g>\n<!-- 2&#45;&gt;3 -->\n<g id=\"edge3\" class=\"edge\">\n<title>2&#45;&gt;3</title>\n<path fill=\"none\" stroke=\"#000000\" d=\"M145.9041,-88.9777C132.3252,-79.2713 117.5661,-68.7213 104.1088,-59.1018\"/>\n<polygon fill=\"#000000\" stroke=\"#000000\" points=\"106.0908,-56.2164 95.9202,-53.2485 102.0201,-61.9111 106.0908,-56.2164\"/>\n</g>\n<!-- 4 -->\n<g id=\"node5\" class=\"node\">\n<title>4</title>\n<polygon fill=\"none\" stroke=\"#000000\" points=\"252,-53 135,-53 135,0 252,0 252,-53\"/>\n<text text-anchor=\"middle\" x=\"193.5\" y=\"-37.8\" font-family=\"Times,serif\" font-size=\"14.00\" fill=\"#000000\">gini = 0.143</text>\n<text text-anchor=\"middle\" x=\"193.5\" y=\"-22.8\" font-family=\"Times,serif\" font-size=\"14.00\" fill=\"#000000\">samples = 452</text>\n<text text-anchor=\"middle\" x=\"193.5\" y=\"-7.8\" font-family=\"Times,serif\" font-size=\"14.00\" fill=\"#000000\">value = [417, 35]</text>\n</g>\n<!-- 2&#45;&gt;4 -->\n<g id=\"edge4\" class=\"edge\">\n<title>2&#45;&gt;4</title>\n<path fill=\"none\" stroke=\"#000000\" d=\"M193.5,-88.9777C193.5,-80.7364 193.5,-71.887 193.5,-63.5153\"/>\n<polygon fill=\"#000000\" stroke=\"#000000\" points=\"197.0001,-63.2484 193.5,-53.2485 190.0001,-63.2485 197.0001,-63.2484\"/>\n</g>\n<!-- 6 -->\n<g id=\"node7\" class=\"node\">\n<title>6</title>\n<polygon fill=\"none\" stroke=\"#000000\" points=\"380.5,-53 270.5,-53 270.5,0 380.5,0 380.5,-53\"/>\n<text text-anchor=\"middle\" x=\"325.5\" y=\"-37.8\" font-family=\"Times,serif\" font-size=\"14.00\" fill=\"#000000\">gini = 0.499</text>\n<text text-anchor=\"middle\" x=\"325.5\" y=\"-22.8\" font-family=\"Times,serif\" font-size=\"14.00\" fill=\"#000000\">samples = 163</text>\n<text text-anchor=\"middle\" x=\"325.5\" y=\"-7.8\" font-family=\"Times,serif\" font-size=\"14.00\" fill=\"#000000\">value = [85, 78]</text>\n</g>\n<!-- 5&#45;&gt;6 -->\n<g id=\"edge6\" class=\"edge\">\n<title>5&#45;&gt;6</title>\n<path fill=\"none\" stroke=\"#000000\" d=\"M390.8912,-88.9777C381.1155,-79.6376 370.5223,-69.5163 360.766,-60.1947\"/>\n<polygon fill=\"#000000\" stroke=\"#000000\" points=\"363.144,-57.6261 353.4958,-53.2485 358.3083,-62.6873 363.144,-57.6261\"/>\n</g>\n<!-- 7 -->\n<g id=\"node8\" class=\"node\">\n<title>7</title>\n<polygon fill=\"none\" stroke=\"#000000\" points=\"516,-53 399,-53 399,0 516,0 516,-53\"/>\n<text text-anchor=\"middle\" x=\"457.5\" y=\"-37.8\" font-family=\"Times,serif\" font-size=\"14.00\" fill=\"#000000\">gini = 0.369</text>\n<text text-anchor=\"middle\" x=\"457.5\" y=\"-22.8\" font-family=\"Times,serif\" font-size=\"14.00\" fill=\"#000000\">samples = 307</text>\n<text text-anchor=\"middle\" x=\"457.5\" y=\"-7.8\" font-family=\"Times,serif\" font-size=\"14.00\" fill=\"#000000\">value = [232, 75]</text>\n</g>\n<!-- 5&#45;&gt;7 -->\n<g id=\"edge7\" class=\"edge\">\n<title>5&#45;&gt;7</title>\n<path fill=\"none\" stroke=\"#000000\" d=\"M437.4294,-88.9777C440.1357,-80.5533 443.0462,-71.4934 445.7881,-62.9579\"/>\n<polygon fill=\"#000000\" stroke=\"#000000\" points=\"449.1809,-63.8398 448.9072,-53.2485 442.5164,-61.6988 449.1809,-63.8398\"/>\n</g>\n<!-- 9 -->\n<g id=\"node10\" class=\"node\">\n<title>9</title>\n<polygon fill=\"none\" stroke=\"#000000\" points=\"705,-157 550,-157 550,-89 705,-89 705,-157\"/>\n<text text-anchor=\"middle\" x=\"627.5\" y=\"-141.8\" font-family=\"Times,serif\" font-size=\"14.00\" fill=\"#000000\">inq.last.6mths &lt;= 0.204</text>\n<text text-anchor=\"middle\" x=\"627.5\" y=\"-126.8\" font-family=\"Times,serif\" font-size=\"14.00\" fill=\"#000000\">gini = 0.433</text>\n<text text-anchor=\"middle\" x=\"627.5\" y=\"-111.8\" font-family=\"Times,serif\" font-size=\"14.00\" fill=\"#000000\">samples = 2118</text>\n<text text-anchor=\"middle\" x=\"627.5\" y=\"-96.8\" font-family=\"Times,serif\" font-size=\"14.00\" fill=\"#000000\">value = [671, 1447]</text>\n</g>\n<!-- 8&#45;&gt;9 -->\n<g id=\"edge9\" class=\"edge\">\n<title>8&#45;&gt;9</title>\n<path fill=\"none\" stroke=\"#000000\" d=\"M627.5,-192.9465C627.5,-184.776 627.5,-175.9318 627.5,-167.3697\"/>\n<polygon fill=\"#000000\" stroke=\"#000000\" points=\"631.0001,-167.13 627.5,-157.13 624.0001,-167.13 631.0001,-167.13\"/>\n</g>\n<!-- 12 -->\n<g id=\"node13\" class=\"node\">\n<title>12</title>\n<polygon fill=\"none\" stroke=\"#000000\" points=\"960.5,-157 820.5,-157 820.5,-89 960.5,-89 960.5,-157\"/>\n<text text-anchor=\"middle\" x=\"890.5\" y=\"-141.8\" font-family=\"Times,serif\" font-size=\"14.00\" fill=\"#000000\">int.rate &lt;= 0.6</text>\n<text text-anchor=\"middle\" x=\"890.5\" y=\"-126.8\" font-family=\"Times,serif\" font-size=\"14.00\" fill=\"#000000\">gini = 0.5</text>\n<text text-anchor=\"middle\" x=\"890.5\" y=\"-111.8\" font-family=\"Times,serif\" font-size=\"14.00\" fill=\"#000000\">samples = 5795</text>\n<text text-anchor=\"middle\" x=\"890.5\" y=\"-96.8\" font-family=\"Times,serif\" font-size=\"14.00\" fill=\"#000000\">value = [2949, 2846]</text>\n</g>\n<!-- 8&#45;&gt;12 -->\n<g id=\"edge12\" class=\"edge\">\n<title>8&#45;&gt;12</title>\n<path fill=\"none\" stroke=\"#000000\" d=\"M697.6337,-199.2665C732.4153,-185.5126 774.5804,-168.8389 810.6045,-154.5937\"/>\n<polygon fill=\"#000000\" stroke=\"#000000\" points=\"812.093,-157.7688 820.1052,-150.8367 809.5188,-151.2593 812.093,-157.7688\"/>\n</g>\n<!-- 10 -->\n<g id=\"node11\" class=\"node\">\n<title>10</title>\n<polygon fill=\"none\" stroke=\"#000000\" points=\"659,-53 534,-53 534,0 659,0 659,-53\"/>\n<text text-anchor=\"middle\" x=\"596.5\" y=\"-37.8\" font-family=\"Times,serif\" font-size=\"14.00\" fill=\"#000000\">gini = 0.459</text>\n<text text-anchor=\"middle\" x=\"596.5\" y=\"-22.8\" font-family=\"Times,serif\" font-size=\"14.00\" fill=\"#000000\">samples = 1494</text>\n<text text-anchor=\"middle\" x=\"596.5\" y=\"-7.8\" font-family=\"Times,serif\" font-size=\"14.00\" fill=\"#000000\">value = [533, 961]</text>\n</g>\n<!-- 9&#45;&gt;10 -->\n<g id=\"edge10\" class=\"edge\">\n<title>9&#45;&gt;10</title>\n<path fill=\"none\" stroke=\"#000000\" d=\"M616.5706,-88.9777C613.8643,-80.5533 610.9538,-71.4934 608.2119,-62.9579\"/>\n<polygon fill=\"#000000\" stroke=\"#000000\" points=\"611.4836,-61.6988 605.0928,-53.2485 604.8191,-63.8398 611.4836,-61.6988\"/>\n</g>\n<!-- 11 -->\n<g id=\"node12\" class=\"node\">\n<title>11</title>\n<polygon fill=\"none\" stroke=\"#000000\" points=\"802,-53 677,-53 677,0 802,0 802,-53\"/>\n<text text-anchor=\"middle\" x=\"739.5\" y=\"-37.8\" font-family=\"Times,serif\" font-size=\"14.00\" fill=\"#000000\">gini = 0.344</text>\n<text text-anchor=\"middle\" x=\"739.5\" y=\"-22.8\" font-family=\"Times,serif\" font-size=\"14.00\" fill=\"#000000\">samples = 624</text>\n<text text-anchor=\"middle\" x=\"739.5\" y=\"-7.8\" font-family=\"Times,serif\" font-size=\"14.00\" fill=\"#000000\">value = [138, 486]</text>\n</g>\n<!-- 9&#45;&gt;11 -->\n<g id=\"edge11\" class=\"edge\">\n<title>9&#45;&gt;11</title>\n<path fill=\"none\" stroke=\"#000000\" d=\"M666.987,-88.9777C677.9336,-79.546 689.8047,-69.3178 700.7111,-59.9208\"/>\n<polygon fill=\"#000000\" stroke=\"#000000\" points=\"703.1639,-62.4274 708.4551,-53.2485 698.5947,-57.1244 703.1639,-62.4274\"/>\n</g>\n<!-- 13 -->\n<g id=\"node14\" class=\"node\">\n<title>13</title>\n<polygon fill=\"none\" stroke=\"#000000\" points=\"960.5,-53 820.5,-53 820.5,0 960.5,0 960.5,-53\"/>\n<text text-anchor=\"middle\" x=\"890.5\" y=\"-37.8\" font-family=\"Times,serif\" font-size=\"14.00\" fill=\"#000000\">gini = 0.497</text>\n<text text-anchor=\"middle\" x=\"890.5\" y=\"-22.8\" font-family=\"Times,serif\" font-size=\"14.00\" fill=\"#000000\">samples = 4073</text>\n<text text-anchor=\"middle\" x=\"890.5\" y=\"-7.8\" font-family=\"Times,serif\" font-size=\"14.00\" fill=\"#000000\">value = [2193, 1880]</text>\n</g>\n<!-- 12&#45;&gt;13 -->\n<g id=\"edge13\" class=\"edge\">\n<title>12&#45;&gt;13</title>\n<path fill=\"none\" stroke=\"#000000\" d=\"M890.5,-88.9777C890.5,-80.7364 890.5,-71.887 890.5,-63.5153\"/>\n<polygon fill=\"#000000\" stroke=\"#000000\" points=\"894.0001,-63.2484 890.5,-53.2485 887.0001,-63.2485 894.0001,-63.2484\"/>\n</g>\n<!-- 14 -->\n<g id=\"node15\" class=\"node\">\n<title>14</title>\n<polygon fill=\"none\" stroke=\"#000000\" points=\"1104,-53 979,-53 979,0 1104,0 1104,-53\"/>\n<text text-anchor=\"middle\" x=\"1041.5\" y=\"-37.8\" font-family=\"Times,serif\" font-size=\"14.00\" fill=\"#000000\">gini = 0.493</text>\n<text text-anchor=\"middle\" x=\"1041.5\" y=\"-22.8\" font-family=\"Times,serif\" font-size=\"14.00\" fill=\"#000000\">samples = 1722</text>\n<text text-anchor=\"middle\" x=\"1041.5\" y=\"-7.8\" font-family=\"Times,serif\" font-size=\"14.00\" fill=\"#000000\">value = [756, 966]</text>\n</g>\n<!-- 12&#45;&gt;14 -->\n<g id=\"edge14\" class=\"edge\">\n<title>12&#45;&gt;14</title>\n<path fill=\"none\" stroke=\"#000000\" d=\"M943.737,-88.9777C959.0685,-79.1798 975.7451,-68.5222 990.9113,-58.8298\"/>\n<polygon fill=\"#000000\" stroke=\"#000000\" points=\"993.1034,-61.5827 999.6449,-53.2485 989.3338,-55.6843 993.1034,-61.5827\"/>\n</g>\n</g>\n</svg>\n"
          },
          "metadata": {
            "tags": []
          },
          "execution_count": 36
        }
      ]
    },
    {
      "cell_type": "markdown",
      "metadata": {
        "id": "dn4kYK0KwJQF"
      },
      "source": [
        "Machine Learning Algorithms"
      ]
    },
    {
      "cell_type": "code",
      "metadata": {
        "colab": {
          "base_uri": "https://localhost:8080/",
          "height": 1000
        },
        "id": "EZD5sPc2Rdqs",
        "outputId": "dcb950f4-ccc1-4111-a26f-374871e1c528"
      },
      "source": [
        "import matplotlib.pyplot as plt\r\n",
        "import seaborn as sns\r\n",
        "sns.set()\r\n",
        "from sklearn.linear_model import LogisticRegression\r\n",
        "from sklearn.naive_bayes import GaussianNB\r\n",
        "from sklearn.svm import SVC\r\n",
        "from sklearn.metrics import accuracy_score\r\n",
        "from sklearn.neighbors import KNeighborsClassifier\r\n",
        "from sklearn.ensemble import AdaBoostClassifier\r\n",
        "from sklearn.tree import DecisionTreeClassifier\r\n",
        "from sklearn.ensemble import RandomForestClassifier\r\n",
        "from sklearn.metrics import roc_curve, roc_auc_score\r\n",
        "from sklearn.model_selection import GridSearchCV\r\n",
        "from sklearn.model_selection import train_test_split\r\n",
        "from sklearn.linear_model import LogisticRegression\r\n",
        "from sklearn.metrics import confusion_matrix\r\n",
        "from sklearn.utils import resample\r\n",
        "from sklearn.model_selection import cross_val_score\r\n",
        "from sklearn.metrics import accuracy_score,f1_score\r\n",
        "from sklearn import model_selection\r\n",
        "from xgboost import XGBClassifier\r\n",
        "from sklearn.ensemble import GradientBoostingClassifier\r\n",
        "Xtrain,Xtest,ytrain,ytest=train_test_split(X,y,test_size=0.30,random_state=42,stratify=y)\r\n",
        "classifiers = [LogisticRegression(C=5, class_weight=None, dual=False, fit_intercept=True,\r\n",
        "                   intercept_scaling=1, l1_ratio=None, max_iter=100,\r\n",
        "                   multi_class='auto', n_jobs=None, penalty='l2',\r\n",
        "                   random_state=None, solver='lbfgs', tol=0.0001, verbose=0,\r\n",
        "                   warm_start=False), \r\n",
        "               GaussianNB(), \r\n",
        "               KNeighborsClassifier(algorithm='auto', leaf_size=30, metric='manhattan',\r\n",
        "                     metric_params=None, n_jobs=None, n_neighbors=11, p=2,\r\n",
        "                     weights='distance'), \r\n",
        "               DecisionTreeClassifier(ccp_alpha=0.0, class_weight=None, criterion='entropy',\r\n",
        "                       max_depth=50, max_features=None, max_leaf_nodes=None,\r\n",
        "                       min_impurity_decrease=0.0, min_impurity_split=None,\r\n",
        "                       min_samples_leaf=1, min_samples_split=2,\r\n",
        "                       min_weight_fraction_leaf=0.0, presort='deprecated',\r\n",
        "                       random_state=None, splitter='best'),\r\n",
        "               RandomForestClassifier(random_state=1234),XGBClassifier(learning_rate=0.02, n_estimators=600, objective='binary:logistic',\r\n",
        "                    silent=True, nthread=1),AdaBoostClassifier(algorithm='SAMME.R',base_estimator=DecisionTreeClassifier(ccp_alpha=0.0,class_weight='balanced',\r\n",
        "criterion='gini',max_depth=None,max_features='auto',max_leaf_nodes=None,min_impurity_decrease=0.0,min_impurity_split=None,min_samples_leaf=1,min_samples_split=2,min_weight_fraction_leaf=0.0,presort='deprecated',\r\n",
        "random_state=11,splitter='best'),learning_rate=1.0, n_estimators=2, random_state=None)] #SVC(gamma ='auto', probability = True)\r\n",
        "\r\n",
        "# Define a result table as a DataFrame\r\n",
        "result_table = pd.DataFrame(columns=['classifiers', 'fpr','tpr','auc'])\r\n",
        "from sklearn.metrics import average_precision_score\r\n",
        "seed = 7\r\n",
        "# Train the models and record the results\r\n",
        "results=[]\r\n",
        "for cls in classifiers:\r\n",
        "    print(cls)\r\n",
        "    #grid = GridSearchCV(estimator=cls, param_grid=dict(alpha=alphas))\r\n",
        "    #grid.fit(Xtrain, ytrain)\r\n",
        "    #print(grid)\r\n",
        "    # summarize the results of the grid search\r\n",
        "    #print(grid.best_score_)\r\n",
        "    #print(grid.best_estimator_.alpha)\r\n",
        "    model = cls.fit(Xtrain, ytrain)\r\n",
        "    yproba = model.predict_proba(Xtest)[::,1]\r\n",
        "    ypred = model.predict(Xtest)\r\n",
        "    y_trainpred = model.predict(Xtrain)\r\n",
        "    print(\"Precision: \",average_precision_score(ytest, ypred))\r\n",
        "    fpr, tpr, _ = roc_curve(ytest,  yproba)\r\n",
        "    auc = roc_auc_score(ytest, yproba)\r\n",
        "    print(\"Train F1 Score: \", f1_score(ytrain,y_trainpred))\r\n",
        "    print(\"Train Accuracy: \", accuracy_score(ytrain, y_trainpred))\r\n",
        "    print(\"Test F1 Score: \", f1_score(ytest,ypred))\r\n",
        "    print(\"Test Accuracy: \",accuracy_score(ytest, ypred))\r\n",
        "    print(\"Validation F1 Score: \",cross_val_score(cls,Xtrain,ytrain,cv=5,scoring='f1_macro').mean())\r\n",
        "    kfold = model_selection.KFold(n_splits=10, random_state=seed)\r\n",
        "    cv_results = cross_val_score(cls,Xtrain,ytrain,cv=kfold,scoring='roc_auc')\r\n",
        "    results.append(cv_results)\r\n",
        "    print(\"Validation Accuracy: \",cross_val_score(cls,Xtrain,ytrain,cv=5,scoring='accuracy').mean())\r\n",
        "    print(\"Confusion Matrix\")\r\n",
        "    print(confusion_matrix(ytest, ypred))\r\n",
        "    result_table = result_table.append({'classifiers':cls.__class__.__name__,\r\n",
        "                                        'fpr':fpr, \r\n",
        "                                        'tpr':tpr, \r\n",
        "                                        'auc':auc}, ignore_index=True)\r\n",
        "\r\n",
        "# Set name of the classifiers as index labels\r\n",
        "result_table.set_index('classifiers', inplace=True)\r\n",
        "fig = plt.figure(figsize=(8,6))\r\n",
        "\r\n",
        "for i in result_table.index:\r\n",
        "    plt.plot(result_table.loc[i]['fpr'], \r\n",
        "             result_table.loc[i]['tpr'], \r\n",
        "             label=\"{}, AUC={:.3f}\".format(i, result_table.loc[i]['auc']))\r\n",
        "    \r\n",
        "plt.plot([0,1], [0,1], color='orange', linestyle='--')\r\n",
        "\r\n",
        "plt.xticks(np.arange(0.0, 1.1, step=0.1))\r\n",
        "plt.xlabel(\"Flase Positive Rate\", fontsize=15)\r\n",
        "\r\n",
        "plt.yticks(np.arange(0.0, 1.1, step=0.1))\r\n",
        "plt.ylabel(\"True Positive Rate\", fontsize=15)\r\n",
        "\r\n",
        "plt.title('ROC Curve Analysis', fontweight='bold', fontsize=15)\r\n",
        "plt.legend(prop={'size':13}, loc='lower right')\r\n",
        "\r\n",
        "plt.show()\r\n",
        "print(results)\r\n",
        "names=['LR','GNB','KNN','DT','RF','XG','ADA']\r\n",
        "fig = plt.figure()\r\n",
        "fig.suptitle('Algorithm Comparison')\r\n",
        "ax = fig.add_subplot(111)\r\n",
        "plt.boxplot(results)\r\n",
        "ax.set_xticklabels(names)\r\n",
        "plt.show()\r\n",
        "'''\r\n",
        "from sklearn.model_selection import RandomizedSearchCV\r\n",
        "from sklearn.model_selection import GridSearchCV\r\n",
        "from sklearn.calibration import CalibratedClassifierCV\r\n",
        "from sklearn.model_selection import RandomizedSearchCV\r\n",
        "# Number of trees in random forest\r\n",
        "n_estimators = [int(x) for x in np.linspace(start = 200, stop = 2000, num = 10)]\r\n",
        "# Number of features to consider at every split\r\n",
        "max_features = ['auto', 'sqrt']\r\n",
        "# Maximum number of levels in tree\r\n",
        "max_depth = [int(x) for x in np.linspace(10, 110, num = 11)]\r\n",
        "max_depth.append(None)\r\n",
        "# Minimum number of samples required to split a node\r\n",
        "min_samples_split = [2, 5, 10]\r\n",
        "# Minimum number of samples required at each leaf node\r\n",
        "min_samples_leaf = [1, 2, 4]\r\n",
        "# Method of selecting samples for training each tree\r\n",
        "bootstrap = [True, False]\r\n",
        "# Create the random grid\r\n",
        "random_grid = {'n_estimators': n_estimators,\r\n",
        "               'max_features': max_features,\r\n",
        "               'max_depth': max_depth,\r\n",
        "               'min_samples_split': min_samples_split,\r\n",
        "               'min_samples_leaf': min_samples_leaf,\r\n",
        "               'bootstrap': bootstrap}\r\n",
        "\r\n",
        "rf = RandomForestClassifier()\r\n",
        "# Random search of parameters, using 3 fold cross validation, \r\n",
        "# search across 100 different combinations, and use all available cores\r\n",
        "rf_random = RandomizedSearchCV(estimator = rf, param_distributions = random_grid, n_iter = 100, cv = 3, verbose=2, random_state=42, n_jobs = -1)\r\n",
        "# Fit the random search model\r\n",
        "rf_random.fit(Xtrain, ytrain)\r\n",
        "print(rf_random.best_params_)'''\r\n"
      ],
      "execution_count": 38,
      "outputs": [
        {
          "output_type": "stream",
          "text": [
            "LogisticRegression(C=5, class_weight=None, dual=False, fit_intercept=True,\n",
            "                   intercept_scaling=1, l1_ratio=None, max_iter=100,\n",
            "                   multi_class='auto', n_jobs=None, penalty='l2',\n",
            "                   random_state=None, solver='lbfgs', tol=0.0001, verbose=0,\n",
            "                   warm_start=False)\n",
            "Precision:  0.5695387349184995\n",
            "Train F1 Score:  0.6139722346618899\n",
            "Train Accuracy:  0.6207237927620723\n",
            "Test F1 Score:  0.6104936676143706\n",
            "Test Accuracy:  0.6132922761098281\n",
            "Validation F1 Score:  0.6167938735459517\n"
          ],
          "name": "stdout"
        },
        {
          "output_type": "stream",
          "text": [
            "/usr/local/lib/python3.6/dist-packages/sklearn/model_selection/_split.py:296: FutureWarning: Setting a random_state has no effect since shuffle is False. This will raise an error in 0.24. You should leave random_state to its default (None), or set shuffle=True.\n",
            "  FutureWarning\n"
          ],
          "name": "stderr"
        },
        {
          "output_type": "stream",
          "text": [
            "Validation Accuracy:  0.6169843922270182\n",
            "Confusion Matrix\n",
            "[[1209  740]\n",
            " [ 767 1181]]\n",
            "GaussianNB(priors=None, var_smoothing=1e-09)\n",
            "Precision:  0.5708412515808043\n",
            "Train F1 Score:  0.5588787385809036\n",
            "Train Accuracy:  0.6122538774612254\n",
            "Test F1 Score:  0.5637043428242738\n",
            "Test Accuracy:  0.6107261996407493\n",
            "Validation F1 Score:  0.6024904521971164\n"
          ],
          "name": "stdout"
        },
        {
          "output_type": "stream",
          "text": [
            "/usr/local/lib/python3.6/dist-packages/sklearn/model_selection/_split.py:296: FutureWarning: Setting a random_state has no effect since shuffle is False. This will raise an error in 0.24. You should leave random_state to its default (None), or set shuffle=True.\n",
            "  FutureWarning\n"
          ],
          "name": "stderr"
        },
        {
          "output_type": "stream",
          "text": [
            "Validation Accuracy:  0.6086249471566177\n",
            "Confusion Matrix\n",
            "[[1400  549]\n",
            " [ 968  980]]\n",
            "KNeighborsClassifier(algorithm='auto', leaf_size=30, metric='manhattan',\n",
            "                     metric_params=None, n_jobs=None, n_neighbors=11, p=2,\n",
            "                     weights='distance')\n",
            "Precision:  0.7215282479157824\n",
            "Train F1 Score:  1.0\n",
            "Train Accuracy:  1.0\n",
            "Test F1 Score:  0.8359375\n",
            "Test Accuracy:  0.8060046189376443\n",
            "Validation F1 Score:  0.7908029110273577\n"
          ],
          "name": "stdout"
        },
        {
          "output_type": "stream",
          "text": [
            "/usr/local/lib/python3.6/dist-packages/sklearn/model_selection/_split.py:296: FutureWarning: Setting a random_state has no effect since shuffle is False. This will raise an error in 0.24. You should leave random_state to its default (None), or set shuffle=True.\n",
            "  FutureWarning\n"
          ],
          "name": "stderr"
        },
        {
          "output_type": "stream",
          "text": [
            "Validation Accuracy:  0.7978211894856335\n",
            "Confusion Matrix\n",
            "[[1215  734]\n",
            " [  22 1926]]\n",
            "DecisionTreeClassifier(ccp_alpha=0.0, class_weight=None, criterion='entropy',\n",
            "                       max_depth=50, max_features=None, max_leaf_nodes=None,\n",
            "                       min_impurity_decrease=0.0, min_impurity_split=None,\n",
            "                       min_samples_leaf=1, min_samples_split=2,\n",
            "                       min_weight_fraction_leaf=0.0, presort='deprecated',\n",
            "                       random_state=None, splitter='best')\n",
            "Precision:  0.8409669318204199\n",
            "Train F1 Score:  1.0\n",
            "Train Accuracy:  1.0\n",
            "Test F1 Score:  0.9099976252671574\n",
            "Test Accuracy:  0.9027457018219143\n",
            "Validation F1 Score:  0.8754297783352036\n"
          ],
          "name": "stdout"
        },
        {
          "output_type": "stream",
          "text": [
            "/usr/local/lib/python3.6/dist-packages/sklearn/model_selection/_split.py:296: FutureWarning: Setting a random_state has no effect since shuffle is False. This will raise an error in 0.24. You should leave random_state to its default (None), or set shuffle=True.\n",
            "  FutureWarning\n"
          ],
          "name": "stderr"
        },
        {
          "output_type": "stream",
          "text": [
            "Validation Accuracy:  0.8757016603254607\n",
            "Confusion Matrix\n",
            "[[1602  347]\n",
            " [  32 1916]]\n",
            "RandomForestClassifier(bootstrap=True, ccp_alpha=0.0, class_weight=None,\n",
            "                       criterion='gini', max_depth=None, max_features='auto',\n",
            "                       max_leaf_nodes=None, max_samples=None,\n",
            "                       min_impurity_decrease=0.0, min_impurity_split=None,\n",
            "                       min_samples_leaf=1, min_samples_split=2,\n",
            "                       min_weight_fraction_leaf=0.0, n_estimators=100,\n",
            "                       n_jobs=None, oob_score=False, random_state=1234,\n",
            "                       verbose=0, warm_start=False)\n",
            "Precision:  0.9568262979660287\n",
            "Train F1 Score:  1.0\n",
            "Train Accuracy:  1.0\n",
            "Test F1 Score:  0.9735368956743004\n",
            "Test Accuracy:  0.9733128047215807\n",
            "Validation F1 Score:  0.9527978224429685\n"
          ],
          "name": "stdout"
        },
        {
          "output_type": "stream",
          "text": [
            "/usr/local/lib/python3.6/dist-packages/sklearn/model_selection/_split.py:296: FutureWarning: Setting a random_state has no effect since shuffle is False. This will raise an error in 0.24. You should leave random_state to its default (None), or set shuffle=True.\n",
            "  FutureWarning\n"
          ],
          "name": "stderr"
        },
        {
          "output_type": "stream",
          "text": [
            "Validation Accuracy:  0.952811388890401\n",
            "Confusion Matrix\n",
            "[[1880   69]\n",
            " [  35 1913]]\n",
            "XGBClassifier(base_score=0.5, booster='gbtree', colsample_bylevel=1,\n",
            "              colsample_bynode=1, colsample_bytree=1, gamma=0,\n",
            "              learning_rate=0.02, max_delta_step=0, max_depth=3,\n",
            "              min_child_weight=1, missing=None, n_estimators=600, n_jobs=1,\n",
            "              nthread=1, objective='binary:logistic', random_state=0,\n",
            "              reg_alpha=0, reg_lambda=1, scale_pos_weight=1, seed=None,\n",
            "              silent=True, subsample=1, verbosity=1)\n",
            "Precision:  0.6335858049644794\n",
            "Train F1 Score:  0.7431153184165232\n",
            "Train Accuracy:  0.7373226267737323\n",
            "Test F1 Score:  0.7043586550435865\n",
            "Test Accuracy:  0.695406723120349\n",
            "Validation F1 Score:  0.6899538213756532\n"
          ],
          "name": "stdout"
        },
        {
          "output_type": "stream",
          "text": [
            "/usr/local/lib/python3.6/dist-packages/sklearn/model_selection/_split.py:296: FutureWarning: Setting a random_state has no effect since shuffle is False. This will raise an error in 0.24. You should leave random_state to its default (None), or set shuffle=True.\n",
            "  FutureWarning\n"
          ],
          "name": "stderr"
        },
        {
          "output_type": "stream",
          "text": [
            "Validation Accuracy:  0.6901342085830352\n",
            "Confusion Matrix\n",
            "[[1296  653]\n",
            " [ 534 1414]]\n",
            "AdaBoostClassifier(algorithm='SAMME.R',\n",
            "                   base_estimator=DecisionTreeClassifier(ccp_alpha=0.0,\n",
            "                                                         class_weight='balanced',\n",
            "                                                         criterion='gini',\n",
            "                                                         max_depth=None,\n",
            "                                                         max_features='auto',\n",
            "                                                         max_leaf_nodes=None,\n",
            "                                                         min_impurity_decrease=0.0,\n",
            "                                                         min_impurity_split=None,\n",
            "                                                         min_samples_leaf=1,\n",
            "                                                         min_samples_split=2,\n",
            "                                                         min_weight_fraction_leaf=0.0,\n",
            "                                                         presort='deprecated',\n",
            "                                                         random_state=11,\n",
            "                                                         splitter='best'),\n",
            "                   learning_rate=1.0, n_estimators=2, random_state=None)\n",
            "Precision:  0.8374340375437288\n",
            "Train F1 Score:  1.0\n",
            "Train Accuracy:  1.0\n",
            "Test F1 Score:  0.9088332546055738\n",
            "Test Accuracy:  0.9009494482935592\n",
            "Validation F1 Score:  0.8801609589920156\n"
          ],
          "name": "stdout"
        },
        {
          "output_type": "stream",
          "text": [
            "/usr/local/lib/python3.6/dist-packages/sklearn/model_selection/_split.py:296: FutureWarning: Setting a random_state has no effect since shuffle is False. This will raise an error in 0.24. You should leave random_state to its default (None), or set shuffle=True.\n",
            "  FutureWarning\n"
          ],
          "name": "stderr"
        },
        {
          "output_type": "stream",
          "text": [
            "Validation Accuracy:  0.8783419243518635\n",
            "Confusion Matrix\n",
            "[[1587  362]\n",
            " [  24 1924]]\n"
          ],
          "name": "stdout"
        },
        {
          "output_type": "display_data",
          "data": {
            "image/png": "[encoded data removed]",
            "text/plain": [
              "<Figure size 576x432 with 1 Axes>"
            ]
          },
          "metadata": {
            "tags": []
          }
        },
        {
          "output_type": "stream",
          "text": [
            "[array([0.6520269 , 0.66898422, 0.69829927, 0.70039252, 0.68016927,\n",
            "       0.68876696, 0.64361774, 0.64626243, 0.65581828, 0.67813849]), array([0.63666335, 0.66402634, 0.69249118, 0.7002326 , 0.6645007 ,\n",
            "       0.67968213, 0.63527746, 0.64508368, 0.6508255 , 0.68236963]), array([0.98096765, 0.98557422, 0.98674514, 0.99080248, 0.97311018,\n",
            "       0.9825301 , 0.98561059, 0.98154984, 0.98623593, 0.97888306]), array([0.87952622, 0.89887673, 0.90169395, 0.89835966, 0.87974754,\n",
            "       0.89503046, 0.88185649, 0.89298812, 0.8920324 , 0.89280804]), array([0.99113112, 0.98628353, 0.98906014, 0.99315517, 0.98594622,\n",
            "       0.98525409, 0.99064143, 0.9923284 , 0.99042405, 0.99095196]), array([0.72799687, 0.76291275, 0.76384148, 0.79577437, 0.76573152,\n",
            "       0.77993976, 0.75235177, 0.76211496, 0.74529079, 0.76963556]), array([0.89501295, 0.89561586, 0.91016852, 0.91306212, 0.88086361,\n",
            "       0.87842013, 0.90115309, 0.88140917, 0.88183841, 0.88284019])]\n"
          ],
          "name": "stdout"
        },
        {
          "output_type": "display_data",
          "data": {
            "image/png": "[encoded data removed]",
            "text/plain": [
              "<Figure size 432x288 with 1 Axes>"
            ]
          },
          "metadata": {
            "tags": []
          }
        },
        {
          "output_type": "execute_result",
          "data": {
            "application/vnd.google.colaboratory.intrinsic+json": {
              "type": "string"
            },
            "text/plain": [
              "\"\\nfrom sklearn.model_selection import RandomizedSearchCV\\nfrom sklearn.model_selection import GridSearchCV\\nfrom sklearn.calibration import CalibratedClassifierCV\\nfrom sklearn.model_selection import RandomizedSearchCV\\n# Number of trees in random forest\\nn_estimators = [int(x) for x in np.linspace(start = 200, stop = 2000, num = 10)]\\n# Number of features to consider at every split\\nmax_features = ['auto', 'sqrt']\\n# Maximum number of levels in tree\\nmax_depth = [int(x) for x in np.linspace(10, 110, num = 11)]\\nmax_depth.append(None)\\n# Minimum number of samples required to split a node\\nmin_samples_split = [2, 5, 10]\\n# Minimum number of samples required at each leaf node\\nmin_samples_leaf = [1, 2, 4]\\n# Method of selecting samples for training each tree\\nbootstrap = [True, False]\\n# Create the random grid\\nrandom_grid = {'n_estimators': n_estimators,\\n               'max_features': max_features,\\n               'max_depth': max_depth,\\n               'min_samples_split': min_samples_split,\\n               'min_samples_leaf': min_samples_leaf,\\n               'bootstrap': bootstrap}\\n\\nrf = RandomForestClassifier()\\n# Random search of parameters, using 3 fold cross validation, \\n# search across 100 different combinations, and use all available cores\\nrf_random = RandomizedSearchCV(estimator = rf, param_distributions = random_grid, n_iter = 100, cv = 3, verbose=2, random_state=42, n_jobs = -1)\\n# Fit the random search model\\nrf_random.fit(Xtrain, ytrain)\\nprint(rf_random.best_params_)\""
            ]
          },
          "metadata": {
            "tags": []
          },
          "execution_count": 38
        }
      ]
    },
    {
      "cell_type": "markdown",
      "metadata": {
        "id": "oNIFoCCdwVj6"
      },
      "source": [
        "Ensemble Methods"
      ]
    },
    {
      "cell_type": "code",
      "metadata": {
        "colab": {
          "base_uri": "https://localhost:8080/"
        },
        "id": "yVAQzLbWqmw1",
        "outputId": "349f901e-a0b6-4116-d582-751970503bda"
      },
      "source": [
        "from sklearn.ensemble import VotingClassifier \r\n",
        "from sklearn.linear_model import LogisticRegression \r\n",
        "from sklearn.svm import SVC\r\n",
        "from sklearn.tree import DecisionTreeClassifier\r\n",
        "from sklearn.metrics import accuracy_score \r\n",
        "from sklearn.svm import LinearSVC\r\n",
        "from sklearn.ensemble import RandomForestClassifier\r\n",
        "Xtrain,Xtest,ytrain,ytest=train_test_split(X,y,test_size=0.30,random_state=42,stratify=y)\r\n",
        "estimator = [] \r\n",
        "estimator.append(('SVC', SVC(gamma ='auto', probability = True))) \r\n",
        "estimator.append(('RF',RandomForestClassifier(class_weight=\"balanced\",n_estimators=100,max_depth=20)))\r\n",
        "  \r\n",
        "# Voting Classifier with hard voting \r\n",
        "vot_hard = VotingClassifier(estimators = estimator, voting ='hard') \r\n",
        "vot_hard.fit(Xtrain, ytrain) \r\n",
        "ypred = vot_hard.predict(Xtest) \r\n",
        "from sklearn.metrics import confusion_matrix\r\n",
        "print(confusion_matrix(ytest, ypred))\r\n",
        "\r\n",
        "score = accuracy_score(ytest, ypred) \r\n",
        "print(\"Hard Voting Score\", score) \r\n",
        "print(\"Auc score: \",roc_auc_score(ytest, ypred))\r\n",
        "# Voting Classifier with soft voting \r\n",
        "vot_soft = VotingClassifier(estimators = estimator, voting ='soft') \r\n",
        "vot_soft.fit(Xtrain, ytrain) \r\n",
        "ypred = vot_soft.predict(Xtest) \r\n",
        "score = accuracy_score(ytest, ypred) \r\n",
        "print(\"Soft Voting Score\", score)\r\n",
        "print(\"Auc score: \",roc_auc_score(ytest, ypred))"
      ],
      "execution_count": 39,
      "outputs": [
        {
          "output_type": "stream",
          "text": [
            "[[1872   77]\n",
            " [ 932 1016]]\n",
            "Hard Voting Score 0.7410828842699513\n",
            "Auc score:  0.741026567617996\n",
            "Soft Voting Score 0.9132666153451373\n",
            "Auc score:  0.9132830715061586\n"
          ],
          "name": "stdout"
        }
      ]
    },
    {
      "cell_type": "markdown",
      "metadata": {
        "id": "jMsAblGYc3dC"
      },
      "source": [
        "Neural Network"
      ]
    },
    {
      "cell_type": "code",
      "metadata": {
        "id": "yk95pBWJsFnM"
      },
      "source": [
        "Xtrain,Xtest,ytrain,ytest=train_test_split(X,y,test_size=0.30,random_state=42,stratify=y)\r\n",
        "model = Sequential()\r\n",
        "\r\n",
        "\r\n",
        "# input layer\r\n",
        "model.add(Dense(400,  activation='relu'))\r\n",
        "model.add(Dropout(0.2))\r\n",
        "\r\n",
        "\r\n",
        "\r\n",
        "# hidden layer\r\n",
        "model.add(Dense(200, activation='relu'))\r\n",
        "model.add(Dropout(0.2))\r\n",
        "\r\n",
        "# output layer\r\n",
        "model.add(Dense(units=1,activation='sigmoid'))\r\n",
        "\r\n",
        "# Compile model\r\n",
        "model.compile(loss='binary_crossentropy', optimizer='adam')"
      ],
      "execution_count": null,
      "outputs": []
    },
    {
      "cell_type": "code",
      "metadata": {
        "colab": {
          "base_uri": "https://localhost:8080/"
        },
        "id": "rGLHmxNgtpnX",
        "outputId": "df0cb428-bf9a-48d6-ca94-769b6aaf8164"
      },
      "source": [
        "history = model.fit(x=Xtrain, \r\n",
        "          y=ytrain, \r\n",
        "          epochs=500,\r\n",
        "          batch_size=256,\r\n",
        "          validation_data=(Xtest, ytest), \r\n",
        "          )"
      ],
      "execution_count": null,
      "outputs": [
        {
          "output_type": "stream",
          "text": [
            "Epoch 1/500\n",
            "36/36 [==============================] - 1s 14ms/step - loss: 0.6720 - val_loss: 0.6481\n",
            "Epoch 2/500\n",
            "36/36 [==============================] - 0s 10ms/step - loss: 0.6486 - val_loss: 0.6449\n",
            "Epoch 3/500\n",
            "36/36 [==============================] - 0s 10ms/step - loss: 0.6388 - val_loss: 0.6398\n",
            "Epoch 4/500\n",
            "36/36 [==============================] - 0s 10ms/step - loss: 0.6358 - val_loss: 0.6415\n",
            "Epoch 5/500\n",
            "36/36 [==============================] - 0s 10ms/step - loss: 0.6268 - val_loss: 0.6345\n",
            "Epoch 6/500\n",
            "36/36 [==============================] - 0s 10ms/step - loss: 0.6255 - val_loss: 0.6334\n",
            "Epoch 7/500\n",
            "36/36 [==============================] - 0s 10ms/step - loss: 0.6319 - val_loss: 0.6403\n",
            "Epoch 8/500\n",
            "36/36 [==============================] - 0s 11ms/step - loss: 0.6268 - val_loss: 0.6290\n",
            "Epoch 9/500\n",
            "36/36 [==============================] - 0s 10ms/step - loss: 0.6211 - val_loss: 0.6286\n",
            "Epoch 10/500\n",
            "36/36 [==============================] - 0s 10ms/step - loss: 0.6263 - val_loss: 0.6263\n",
            "Epoch 11/500\n",
            "36/36 [==============================] - 0s 10ms/step - loss: 0.6138 - val_loss: 0.6255\n",
            "Epoch 12/500\n",
            "36/36 [==============================] - 0s 10ms/step - loss: 0.6152 - val_loss: 0.6229\n",
            "Epoch 13/500\n",
            "36/36 [==============================] - 0s 10ms/step - loss: 0.6067 - val_loss: 0.6211\n",
            "Epoch 14/500\n",
            "36/36 [==============================] - 0s 10ms/step - loss: 0.5976 - val_loss: 0.6230\n",
            "Epoch 15/500\n",
            "36/36 [==============================] - 0s 10ms/step - loss: 0.6052 - val_loss: 0.6190\n",
            "Epoch 16/500\n",
            "36/36 [==============================] - 0s 11ms/step - loss: 0.6033 - val_loss: 0.6179\n",
            "Epoch 17/500\n",
            "36/36 [==============================] - 0s 10ms/step - loss: 0.5993 - val_loss: 0.6159\n",
            "Epoch 18/500\n",
            "36/36 [==============================] - 0s 10ms/step - loss: 0.5936 - val_loss: 0.6196\n",
            "Epoch 19/500\n",
            "36/36 [==============================] - 1s 15ms/step - loss: 0.5950 - val_loss: 0.6122\n",
            "Epoch 20/500\n",
            "36/36 [==============================] - 0s 10ms/step - loss: 0.5921 - val_loss: 0.6111\n",
            "Epoch 21/500\n",
            "36/36 [==============================] - 0s 9ms/step - loss: 0.5855 - val_loss: 0.6084\n",
            "Epoch 22/500\n",
            "36/36 [==============================] - 0s 10ms/step - loss: 0.5888 - val_loss: 0.6185\n",
            "Epoch 23/500\n",
            "36/36 [==============================] - 0s 10ms/step - loss: 0.5865 - val_loss: 0.6064\n",
            "Epoch 24/500\n",
            "36/36 [==============================] - 0s 10ms/step - loss: 0.5721 - val_loss: 0.6031\n",
            "Epoch 25/500\n",
            "36/36 [==============================] - 0s 10ms/step - loss: 0.5792 - val_loss: 0.6114\n",
            "Epoch 26/500\n",
            "36/36 [==============================] - 0s 10ms/step - loss: 0.5803 - val_loss: 0.6004\n",
            "Epoch 27/500\n",
            "36/36 [==============================] - 0s 10ms/step - loss: 0.5758 - val_loss: 0.6035\n",
            "Epoch 28/500\n",
            "36/36 [==============================] - 0s 10ms/step - loss: 0.5601 - val_loss: 0.6000\n",
            "Epoch 29/500\n",
            "36/36 [==============================] - 0s 10ms/step - loss: 0.5645 - val_loss: 0.5986\n",
            "Epoch 30/500\n",
            "36/36 [==============================] - 0s 10ms/step - loss: 0.5637 - val_loss: 0.5934\n",
            "Epoch 31/500\n",
            "36/36 [==============================] - 0s 10ms/step - loss: 0.5580 - val_loss: 0.5974\n",
            "Epoch 32/500\n",
            "36/36 [==============================] - 0s 11ms/step - loss: 0.5681 - val_loss: 0.5900\n",
            "Epoch 33/500\n",
            "36/36 [==============================] - 0s 10ms/step - loss: 0.5631 - val_loss: 0.5894\n",
            "Epoch 34/500\n",
            "36/36 [==============================] - 0s 10ms/step - loss: 0.5529 - val_loss: 0.5832\n",
            "Epoch 35/500\n",
            "36/36 [==============================] - 0s 10ms/step - loss: 0.5457 - val_loss: 0.5946\n",
            "Epoch 36/500\n",
            "36/36 [==============================] - 0s 10ms/step - loss: 0.5585 - val_loss: 0.5847\n",
            "Epoch 37/500\n",
            "36/36 [==============================] - 0s 10ms/step - loss: 0.5481 - val_loss: 0.5806\n",
            "Epoch 38/500\n",
            "36/36 [==============================] - 0s 11ms/step - loss: 0.5407 - val_loss: 0.5805\n",
            "Epoch 39/500\n",
            "36/36 [==============================] - 0s 11ms/step - loss: 0.5438 - val_loss: 0.5805\n",
            "Epoch 40/500\n",
            "36/36 [==============================] - 0s 10ms/step - loss: 0.5374 - val_loss: 0.5749\n",
            "Epoch 41/500\n",
            "36/36 [==============================] - 0s 10ms/step - loss: 0.5309 - val_loss: 0.5760\n",
            "Epoch 42/500\n",
            "36/36 [==============================] - 0s 10ms/step - loss: 0.5372 - val_loss: 0.5708\n",
            "Epoch 43/500\n",
            "36/36 [==============================] - 0s 10ms/step - loss: 0.5273 - val_loss: 0.5711\n",
            "Epoch 44/500\n",
            "36/36 [==============================] - 0s 10ms/step - loss: 0.5268 - val_loss: 0.5795\n",
            "Epoch 45/500\n",
            "36/36 [==============================] - 0s 11ms/step - loss: 0.5273 - val_loss: 0.5688\n",
            "Epoch 46/500\n",
            "36/36 [==============================] - 0s 11ms/step - loss: 0.5262 - val_loss: 0.5750\n",
            "Epoch 47/500\n",
            "36/36 [==============================] - 0s 10ms/step - loss: 0.5186 - val_loss: 0.5720\n",
            "Epoch 48/500\n",
            "36/36 [==============================] - 0s 10ms/step - loss: 0.5181 - val_loss: 0.5652\n",
            "Epoch 49/500\n",
            "36/36 [==============================] - 0s 10ms/step - loss: 0.5093 - val_loss: 0.5601\n",
            "Epoch 50/500\n",
            "36/36 [==============================] - 0s 10ms/step - loss: 0.5096 - val_loss: 0.5552\n",
            "Epoch 51/500\n",
            "36/36 [==============================] - 0s 9ms/step - loss: 0.5133 - val_loss: 0.5595\n",
            "Epoch 52/500\n",
            "36/36 [==============================] - 0s 9ms/step - loss: 0.5110 - val_loss: 0.5666\n",
            "Epoch 53/500\n",
            "36/36 [==============================] - 0s 10ms/step - loss: 0.5139 - val_loss: 0.5548\n",
            "Epoch 54/500\n",
            "36/36 [==============================] - 0s 10ms/step - loss: 0.5068 - val_loss: 0.5564\n",
            "Epoch 55/500\n",
            "36/36 [==============================] - 0s 10ms/step - loss: 0.5012 - val_loss: 0.5538\n",
            "Epoch 56/500\n",
            "36/36 [==============================] - 0s 10ms/step - loss: 0.5082 - val_loss: 0.5554\n",
            "Epoch 57/500\n",
            "36/36 [==============================] - 0s 10ms/step - loss: 0.5034 - val_loss: 0.5577\n",
            "Epoch 58/500\n",
            "36/36 [==============================] - 0s 10ms/step - loss: 0.5006 - val_loss: 0.5471\n",
            "Epoch 59/500\n",
            "36/36 [==============================] - 0s 9ms/step - loss: 0.4933 - val_loss: 0.5441\n",
            "Epoch 60/500\n",
            "36/36 [==============================] - 0s 10ms/step - loss: 0.4877 - val_loss: 0.5386\n",
            "Epoch 61/500\n",
            "36/36 [==============================] - 0s 10ms/step - loss: 0.4860 - val_loss: 0.5425\n",
            "Epoch 62/500\n",
            "36/36 [==============================] - 0s 9ms/step - loss: 0.4893 - val_loss: 0.5430\n",
            "Epoch 63/500\n",
            "36/36 [==============================] - 0s 9ms/step - loss: 0.4814 - val_loss: 0.5480\n",
            "Epoch 64/500\n",
            "36/36 [==============================] - 0s 10ms/step - loss: 0.4911 - val_loss: 0.5353\n",
            "Epoch 65/500\n",
            "36/36 [==============================] - 0s 10ms/step - loss: 0.4736 - val_loss: 0.5413\n",
            "Epoch 66/500\n",
            "36/36 [==============================] - 0s 9ms/step - loss: 0.4782 - val_loss: 0.5397\n",
            "Epoch 67/500\n",
            "36/36 [==============================] - 0s 10ms/step - loss: 0.4844 - val_loss: 0.5299\n",
            "Epoch 68/500\n",
            "36/36 [==============================] - 0s 10ms/step - loss: 0.4799 - val_loss: 0.5291\n",
            "Epoch 69/500\n",
            "36/36 [==============================] - 0s 10ms/step - loss: 0.4758 - val_loss: 0.5357\n",
            "Epoch 70/500\n",
            "36/36 [==============================] - 0s 10ms/step - loss: 0.4752 - val_loss: 0.5320\n",
            "Epoch 71/500\n",
            "36/36 [==============================] - 0s 9ms/step - loss: 0.4815 - val_loss: 0.5230\n",
            "Epoch 72/500\n",
            "36/36 [==============================] - 0s 10ms/step - loss: 0.4667 - val_loss: 0.5299\n",
            "Epoch 73/500\n",
            "36/36 [==============================] - 0s 10ms/step - loss: 0.4696 - val_loss: 0.5261\n",
            "Epoch 74/500\n",
            "36/36 [==============================] - 0s 9ms/step - loss: 0.4537 - val_loss: 0.5221\n",
            "Epoch 75/500\n",
            "36/36 [==============================] - 0s 10ms/step - loss: 0.4684 - val_loss: 0.5367\n",
            "Epoch 76/500\n",
            "36/36 [==============================] - 0s 10ms/step - loss: 0.4662 - val_loss: 0.5305\n",
            "Epoch 77/500\n",
            "36/36 [==============================] - 0s 9ms/step - loss: 0.4532 - val_loss: 0.5201\n",
            "Epoch 78/500\n",
            "36/36 [==============================] - 0s 9ms/step - loss: 0.4535 - val_loss: 0.5172\n",
            "Epoch 79/500\n",
            "36/36 [==============================] - 0s 10ms/step - loss: 0.4445 - val_loss: 0.5143\n",
            "Epoch 80/500\n",
            "36/36 [==============================] - 0s 10ms/step - loss: 0.4593 - val_loss: 0.5135\n",
            "Epoch 81/500\n",
            "36/36 [==============================] - 0s 10ms/step - loss: 0.4600 - val_loss: 0.5220\n",
            "Epoch 82/500\n",
            "36/36 [==============================] - 0s 10ms/step - loss: 0.4575 - val_loss: 0.5135\n",
            "Epoch 83/500\n",
            "36/36 [==============================] - 0s 9ms/step - loss: 0.4430 - val_loss: 0.5109\n",
            "Epoch 84/500\n",
            "36/36 [==============================] - 0s 10ms/step - loss: 0.4530 - val_loss: 0.5104\n",
            "Epoch 85/500\n",
            "36/36 [==============================] - 0s 10ms/step - loss: 0.4415 - val_loss: 0.5089\n",
            "Epoch 86/500\n",
            "36/36 [==============================] - 0s 9ms/step - loss: 0.4365 - val_loss: 0.5057\n",
            "Epoch 87/500\n",
            "36/36 [==============================] - 0s 10ms/step - loss: 0.4476 - val_loss: 0.5179\n",
            "Epoch 88/500\n",
            "36/36 [==============================] - 0s 9ms/step - loss: 0.4371 - val_loss: 0.5018\n",
            "Epoch 89/500\n",
            "36/36 [==============================] - 0s 9ms/step - loss: 0.4293 - val_loss: 0.5087\n",
            "Epoch 90/500\n",
            "36/36 [==============================] - 0s 10ms/step - loss: 0.4332 - val_loss: 0.5048\n",
            "Epoch 91/500\n",
            "36/36 [==============================] - 0s 10ms/step - loss: 0.4226 - val_loss: 0.5139\n",
            "Epoch 92/500\n",
            "36/36 [==============================] - 0s 10ms/step - loss: 0.4310 - val_loss: 0.5036\n",
            "Epoch 93/500\n",
            "36/36 [==============================] - 1s 15ms/step - loss: 0.4204 - val_loss: 0.4918\n",
            "Epoch 94/500\n",
            "36/36 [==============================] - 0s 9ms/step - loss: 0.4204 - val_loss: 0.5017\n",
            "Epoch 95/500\n",
            "36/36 [==============================] - 0s 10ms/step - loss: 0.4145 - val_loss: 0.4997\n",
            "Epoch 96/500\n",
            "36/36 [==============================] - 0s 9ms/step - loss: 0.4106 - val_loss: 0.4985\n",
            "Epoch 97/500\n",
            "36/36 [==============================] - 0s 10ms/step - loss: 0.4226 - val_loss: 0.4986\n",
            "Epoch 98/500\n",
            "36/36 [==============================] - 0s 10ms/step - loss: 0.4180 - val_loss: 0.4966\n",
            "Epoch 99/500\n",
            "36/36 [==============================] - 0s 10ms/step - loss: 0.4196 - val_loss: 0.4944\n",
            "Epoch 100/500\n",
            "36/36 [==============================] - 0s 10ms/step - loss: 0.4111 - val_loss: 0.4971\n",
            "Epoch 101/500\n",
            "36/36 [==============================] - 0s 10ms/step - loss: 0.4092 - val_loss: 0.4842\n",
            "Epoch 102/500\n",
            "36/36 [==============================] - 0s 10ms/step - loss: 0.4216 - val_loss: 0.4933\n",
            "Epoch 103/500\n",
            "36/36 [==============================] - 0s 9ms/step - loss: 0.4146 - val_loss: 0.4816\n",
            "Epoch 104/500\n",
            "36/36 [==============================] - 0s 10ms/step - loss: 0.4012 - val_loss: 0.4837\n",
            "Epoch 105/500\n",
            "36/36 [==============================] - 0s 9ms/step - loss: 0.4020 - val_loss: 0.4914\n",
            "Epoch 106/500\n",
            "36/36 [==============================] - 0s 10ms/step - loss: 0.4147 - val_loss: 0.4831\n",
            "Epoch 107/500\n",
            "36/36 [==============================] - 0s 10ms/step - loss: 0.3990 - val_loss: 0.4794\n",
            "Epoch 108/500\n",
            "36/36 [==============================] - 0s 10ms/step - loss: 0.3947 - val_loss: 0.4771\n",
            "Epoch 109/500\n",
            "36/36 [==============================] - 0s 10ms/step - loss: 0.3905 - val_loss: 0.4839\n",
            "Epoch 110/500\n",
            "36/36 [==============================] - 0s 9ms/step - loss: 0.3995 - val_loss: 0.4765\n",
            "Epoch 111/500\n",
            "36/36 [==============================] - 0s 10ms/step - loss: 0.3987 - val_loss: 0.4683\n",
            "Epoch 112/500\n",
            "36/36 [==============================] - 0s 10ms/step - loss: 0.3853 - val_loss: 0.4803\n",
            "Epoch 113/500\n",
            "36/36 [==============================] - 0s 10ms/step - loss: 0.3930 - val_loss: 0.4806\n",
            "Epoch 114/500\n",
            "36/36 [==============================] - 0s 10ms/step - loss: 0.3959 - val_loss: 0.4702\n",
            "Epoch 115/500\n",
            "36/36 [==============================] - 0s 10ms/step - loss: 0.3831 - val_loss: 0.4707\n",
            "Epoch 116/500\n",
            "36/36 [==============================] - 0s 10ms/step - loss: 0.3854 - val_loss: 0.4709\n",
            "Epoch 117/500\n",
            "36/36 [==============================] - 0s 10ms/step - loss: 0.3937 - val_loss: 0.4822\n",
            "Epoch 118/500\n",
            "36/36 [==============================] - 0s 9ms/step - loss: 0.3824 - val_loss: 0.4674\n",
            "Epoch 119/500\n",
            "36/36 [==============================] - 0s 9ms/step - loss: 0.3888 - val_loss: 0.4841\n",
            "Epoch 120/500\n",
            "36/36 [==============================] - 0s 10ms/step - loss: 0.3788 - val_loss: 0.4641\n",
            "Epoch 121/500\n",
            "36/36 [==============================] - 0s 10ms/step - loss: 0.3756 - val_loss: 0.4881\n",
            "Epoch 122/500\n",
            "36/36 [==============================] - 0s 9ms/step - loss: 0.3812 - val_loss: 0.4749\n",
            "Epoch 123/500\n",
            "36/36 [==============================] - 0s 10ms/step - loss: 0.3843 - val_loss: 0.4604\n",
            "Epoch 124/500\n",
            "36/36 [==============================] - 0s 10ms/step - loss: 0.3778 - val_loss: 0.4970\n",
            "Epoch 125/500\n",
            "36/36 [==============================] - 0s 10ms/step - loss: 0.3759 - val_loss: 0.4647\n",
            "Epoch 126/500\n",
            "36/36 [==============================] - 0s 10ms/step - loss: 0.3699 - val_loss: 0.4654\n",
            "Epoch 127/500\n",
            "36/36 [==============================] - 0s 10ms/step - loss: 0.3703 - val_loss: 0.4661\n",
            "Epoch 128/500\n",
            "36/36 [==============================] - 0s 9ms/step - loss: 0.3665 - val_loss: 0.4610\n",
            "Epoch 129/500\n",
            "36/36 [==============================] - 0s 10ms/step - loss: 0.3575 - val_loss: 0.4615\n",
            "Epoch 130/500\n",
            "36/36 [==============================] - 0s 10ms/step - loss: 0.3714 - val_loss: 0.4557\n",
            "Epoch 131/500\n",
            "36/36 [==============================] - 0s 10ms/step - loss: 0.3667 - val_loss: 0.4668\n",
            "Epoch 132/500\n",
            "36/36 [==============================] - 0s 10ms/step - loss: 0.3636 - val_loss: 0.4554\n",
            "Epoch 133/500\n",
            "36/36 [==============================] - 0s 9ms/step - loss: 0.3667 - val_loss: 0.4530\n",
            "Epoch 134/500\n",
            "36/36 [==============================] - 0s 10ms/step - loss: 0.3546 - val_loss: 0.4465\n",
            "Epoch 135/500\n",
            "36/36 [==============================] - 0s 10ms/step - loss: 0.3608 - val_loss: 0.4516\n",
            "Epoch 136/500\n",
            "36/36 [==============================] - 0s 9ms/step - loss: 0.3489 - val_loss: 0.4506\n",
            "Epoch 137/500\n",
            "36/36 [==============================] - 0s 10ms/step - loss: 0.3637 - val_loss: 0.4549\n",
            "Epoch 138/500\n",
            "36/36 [==============================] - 0s 10ms/step - loss: 0.3517 - val_loss: 0.4671\n",
            "Epoch 139/500\n",
            "36/36 [==============================] - 0s 9ms/step - loss: 0.3504 - val_loss: 0.4581\n",
            "Epoch 140/500\n",
            "36/36 [==============================] - 0s 10ms/step - loss: 0.3495 - val_loss: 0.4629\n",
            "Epoch 141/500\n",
            "36/36 [==============================] - 0s 10ms/step - loss: 0.3468 - val_loss: 0.4427\n",
            "Epoch 142/500\n",
            "36/36 [==============================] - 0s 10ms/step - loss: 0.3420 - val_loss: 0.4476\n",
            "Epoch 143/500\n",
            "36/36 [==============================] - 0s 10ms/step - loss: 0.3501 - val_loss: 0.4440\n",
            "Epoch 144/500\n",
            "36/36 [==============================] - 0s 10ms/step - loss: 0.3459 - val_loss: 0.4502\n",
            "Epoch 145/500\n",
            "36/36 [==============================] - 0s 10ms/step - loss: 0.3392 - val_loss: 0.4497\n",
            "Epoch 146/500\n",
            "36/36 [==============================] - 0s 9ms/step - loss: 0.3325 - val_loss: 0.4515\n",
            "Epoch 147/500\n",
            "36/36 [==============================] - 0s 10ms/step - loss: 0.3466 - val_loss: 0.4452\n",
            "Epoch 148/500\n",
            "36/36 [==============================] - 0s 10ms/step - loss: 0.3406 - val_loss: 0.4361\n",
            "Epoch 149/500\n",
            "36/36 [==============================] - 0s 10ms/step - loss: 0.3426 - val_loss: 0.4476\n",
            "Epoch 150/500\n",
            "36/36 [==============================] - 0s 10ms/step - loss: 0.3323 - val_loss: 0.4423\n",
            "Epoch 151/500\n",
            "36/36 [==============================] - 0s 10ms/step - loss: 0.3412 - val_loss: 0.4466\n",
            "Epoch 152/500\n",
            "36/36 [==============================] - 0s 10ms/step - loss: 0.3241 - val_loss: 0.4648\n",
            "Epoch 153/500\n",
            "36/36 [==============================] - 0s 10ms/step - loss: 0.3367 - val_loss: 0.4476\n",
            "Epoch 154/500\n",
            "36/36 [==============================] - 0s 10ms/step - loss: 0.3267 - val_loss: 0.4359\n",
            "Epoch 155/500\n",
            "36/36 [==============================] - 0s 11ms/step - loss: 0.3323 - val_loss: 0.4333\n",
            "Epoch 156/500\n",
            "36/36 [==============================] - 0s 10ms/step - loss: 0.3355 - val_loss: 0.4453\n",
            "Epoch 157/500\n",
            "36/36 [==============================] - 0s 10ms/step - loss: 0.3269 - val_loss: 0.4332\n",
            "Epoch 158/500\n",
            "36/36 [==============================] - 0s 10ms/step - loss: 0.3321 - val_loss: 0.4286\n",
            "Epoch 159/500\n",
            "36/36 [==============================] - 0s 10ms/step - loss: 0.3408 - val_loss: 0.4367\n",
            "Epoch 160/500\n",
            "36/36 [==============================] - 0s 10ms/step - loss: 0.3297 - val_loss: 0.4333\n",
            "Epoch 161/500\n",
            "36/36 [==============================] - 0s 10ms/step - loss: 0.3257 - val_loss: 0.4442\n",
            "Epoch 162/500\n",
            "36/36 [==============================] - 0s 10ms/step - loss: 0.3276 - val_loss: 0.4614\n",
            "Epoch 163/500\n",
            "36/36 [==============================] - 0s 10ms/step - loss: 0.3241 - val_loss: 0.4281\n",
            "Epoch 164/500\n",
            "36/36 [==============================] - 0s 10ms/step - loss: 0.3197 - val_loss: 0.4250\n",
            "Epoch 165/500\n",
            "36/36 [==============================] - 0s 10ms/step - loss: 0.3194 - val_loss: 0.4268\n",
            "Epoch 166/500\n",
            "36/36 [==============================] - 0s 11ms/step - loss: 0.3344 - val_loss: 0.4380\n",
            "Epoch 167/500\n",
            "36/36 [==============================] - 1s 14ms/step - loss: 0.3210 - val_loss: 0.4183\n",
            "Epoch 168/500\n",
            "36/36 [==============================] - 0s 10ms/step - loss: 0.3241 - val_loss: 0.4342\n",
            "Epoch 169/500\n",
            "36/36 [==============================] - 0s 10ms/step - loss: 0.3330 - val_loss: 0.4288\n",
            "Epoch 170/500\n",
            "36/36 [==============================] - 0s 10ms/step - loss: 0.3181 - val_loss: 0.4283\n",
            "Epoch 171/500\n",
            "36/36 [==============================] - 0s 10ms/step - loss: 0.3163 - val_loss: 0.4244\n",
            "Epoch 172/500\n",
            "36/36 [==============================] - 0s 10ms/step - loss: 0.3103 - val_loss: 0.4313\n",
            "Epoch 173/500\n",
            "36/36 [==============================] - 0s 10ms/step - loss: 0.3076 - val_loss: 0.4210\n",
            "Epoch 174/500\n",
            "36/36 [==============================] - 0s 10ms/step - loss: 0.3137 - val_loss: 0.4274\n",
            "Epoch 175/500\n",
            "36/36 [==============================] - 0s 10ms/step - loss: 0.3108 - val_loss: 0.4244\n",
            "Epoch 176/500\n",
            "36/36 [==============================] - 0s 11ms/step - loss: 0.3144 - val_loss: 0.4324\n",
            "Epoch 177/500\n",
            "36/36 [==============================] - 0s 10ms/step - loss: 0.3007 - val_loss: 0.4259\n",
            "Epoch 178/500\n",
            "36/36 [==============================] - 0s 10ms/step - loss: 0.3078 - val_loss: 0.4159\n",
            "Epoch 179/500\n",
            "36/36 [==============================] - 0s 10ms/step - loss: 0.3077 - val_loss: 0.4185\n",
            "Epoch 180/500\n",
            "36/36 [==============================] - 0s 10ms/step - loss: 0.3100 - val_loss: 0.4290\n",
            "Epoch 181/500\n",
            "36/36 [==============================] - 0s 10ms/step - loss: 0.2996 - val_loss: 0.4257\n",
            "Epoch 182/500\n",
            "36/36 [==============================] - 0s 10ms/step - loss: 0.3036 - val_loss: 0.4167\n",
            "Epoch 183/500\n",
            "36/36 [==============================] - 0s 10ms/step - loss: 0.2980 - val_loss: 0.4176\n",
            "Epoch 184/500\n",
            "36/36 [==============================] - 0s 10ms/step - loss: 0.3088 - val_loss: 0.4298\n",
            "Epoch 185/500\n",
            "36/36 [==============================] - 0s 10ms/step - loss: 0.3085 - val_loss: 0.4088\n",
            "Epoch 186/500\n",
            "36/36 [==============================] - 0s 10ms/step - loss: 0.2969 - val_loss: 0.4251\n",
            "Epoch 187/500\n",
            "36/36 [==============================] - 0s 10ms/step - loss: 0.2979 - val_loss: 0.4130\n",
            "Epoch 188/500\n",
            "36/36 [==============================] - 0s 10ms/step - loss: 0.2963 - val_loss: 0.4187\n",
            "Epoch 189/500\n",
            "36/36 [==============================] - 0s 10ms/step - loss: 0.2981 - val_loss: 0.4150\n",
            "Epoch 190/500\n",
            "36/36 [==============================] - 0s 10ms/step - loss: 0.2859 - val_loss: 0.4201\n",
            "Epoch 191/500\n",
            "36/36 [==============================] - 0s 10ms/step - loss: 0.2924 - val_loss: 0.4092\n",
            "Epoch 192/500\n",
            "36/36 [==============================] - 0s 10ms/step - loss: 0.2889 - val_loss: 0.4069\n",
            "Epoch 193/500\n",
            "36/36 [==============================] - 0s 10ms/step - loss: 0.2880 - val_loss: 0.4322\n",
            "Epoch 194/500\n",
            "36/36 [==============================] - 0s 10ms/step - loss: 0.2999 - val_loss: 0.4124\n",
            "Epoch 195/500\n",
            "36/36 [==============================] - 0s 10ms/step - loss: 0.2942 - val_loss: 0.4019\n",
            "Epoch 196/500\n",
            "36/36 [==============================] - 0s 10ms/step - loss: 0.2957 - val_loss: 0.4104\n",
            "Epoch 197/500\n",
            "36/36 [==============================] - 0s 10ms/step - loss: 0.2835 - val_loss: 0.4131\n",
            "Epoch 198/500\n",
            "36/36 [==============================] - 0s 10ms/step - loss: 0.2789 - val_loss: 0.4168\n",
            "Epoch 199/500\n",
            "36/36 [==============================] - 0s 11ms/step - loss: 0.2846 - val_loss: 0.4136\n",
            "Epoch 200/500\n",
            "36/36 [==============================] - 0s 10ms/step - loss: 0.2853 - val_loss: 0.4008\n",
            "Epoch 201/500\n",
            "36/36 [==============================] - 0s 10ms/step - loss: 0.2881 - val_loss: 0.3990\n",
            "Epoch 202/500\n",
            "36/36 [==============================] - 0s 10ms/step - loss: 0.2832 - val_loss: 0.4044\n",
            "Epoch 203/500\n",
            "36/36 [==============================] - 0s 10ms/step - loss: 0.2765 - val_loss: 0.4122\n",
            "Epoch 204/500\n",
            "36/36 [==============================] - 0s 10ms/step - loss: 0.2867 - val_loss: 0.4140\n",
            "Epoch 205/500\n",
            "36/36 [==============================] - 0s 10ms/step - loss: 0.2803 - val_loss: 0.3981\n",
            "Epoch 206/500\n",
            "36/36 [==============================] - 0s 10ms/step - loss: 0.2728 - val_loss: 0.4145\n",
            "Epoch 207/500\n",
            "36/36 [==============================] - 0s 10ms/step - loss: 0.2798 - val_loss: 0.4287\n",
            "Epoch 208/500\n",
            "36/36 [==============================] - 0s 10ms/step - loss: 0.2789 - val_loss: 0.4376\n",
            "Epoch 209/500\n",
            "36/36 [==============================] - 0s 9ms/step - loss: 0.2745 - val_loss: 0.3998\n",
            "Epoch 210/500\n",
            "36/36 [==============================] - 0s 10ms/step - loss: 0.2802 - val_loss: 0.4119\n",
            "Epoch 211/500\n",
            "36/36 [==============================] - 0s 10ms/step - loss: 0.2767 - val_loss: 0.4022\n",
            "Epoch 212/500\n",
            "36/36 [==============================] - 0s 10ms/step - loss: 0.2813 - val_loss: 0.3930\n",
            "Epoch 213/500\n",
            "36/36 [==============================] - 0s 10ms/step - loss: 0.2805 - val_loss: 0.4053\n",
            "Epoch 214/500\n",
            "36/36 [==============================] - 0s 10ms/step - loss: 0.2738 - val_loss: 0.4012\n",
            "Epoch 215/500\n",
            "36/36 [==============================] - 0s 11ms/step - loss: 0.2606 - val_loss: 0.3918\n",
            "Epoch 216/500\n",
            "36/36 [==============================] - 0s 10ms/step - loss: 0.2659 - val_loss: 0.3985\n",
            "Epoch 217/500\n",
            "36/36 [==============================] - 0s 10ms/step - loss: 0.2685 - val_loss: 0.3984\n",
            "Epoch 218/500\n",
            "36/36 [==============================] - 0s 10ms/step - loss: 0.2642 - val_loss: 0.4030\n",
            "Epoch 219/500\n",
            "36/36 [==============================] - 0s 10ms/step - loss: 0.2710 - val_loss: 0.4036\n",
            "Epoch 220/500\n",
            "36/36 [==============================] - 0s 10ms/step - loss: 0.2678 - val_loss: 0.3998\n",
            "Epoch 221/500\n",
            "36/36 [==============================] - 0s 10ms/step - loss: 0.2609 - val_loss: 0.4032\n",
            "Epoch 222/500\n",
            "36/36 [==============================] - 0s 10ms/step - loss: 0.2610 - val_loss: 0.3944\n",
            "Epoch 223/500\n",
            "36/36 [==============================] - 0s 10ms/step - loss: 0.2633 - val_loss: 0.3899\n",
            "Epoch 224/500\n",
            "36/36 [==============================] - 0s 10ms/step - loss: 0.2494 - val_loss: 0.3846\n",
            "Epoch 225/500\n",
            "36/36 [==============================] - 0s 10ms/step - loss: 0.2585 - val_loss: 0.4006\n",
            "Epoch 226/500\n",
            "36/36 [==============================] - 0s 10ms/step - loss: 0.2631 - val_loss: 0.3897\n",
            "Epoch 227/500\n",
            "36/36 [==============================] - 1s 14ms/step - loss: 0.2611 - val_loss: 0.3992\n",
            "Epoch 228/500\n",
            "36/36 [==============================] - 0s 9ms/step - loss: 0.2498 - val_loss: 0.3970\n",
            "Epoch 229/500\n",
            "36/36 [==============================] - 0s 10ms/step - loss: 0.2415 - val_loss: 0.3957\n",
            "Epoch 230/500\n",
            "36/36 [==============================] - 0s 10ms/step - loss: 0.2552 - val_loss: 0.3919\n",
            "Epoch 231/500\n",
            "36/36 [==============================] - 0s 10ms/step - loss: 0.2573 - val_loss: 0.3921\n",
            "Epoch 232/500\n",
            "36/36 [==============================] - 0s 10ms/step - loss: 0.2517 - val_loss: 0.3851\n",
            "Epoch 233/500\n",
            "36/36 [==============================] - 0s 10ms/step - loss: 0.2662 - val_loss: 0.3949\n",
            "Epoch 234/500\n",
            "36/36 [==============================] - 0s 10ms/step - loss: 0.2556 - val_loss: 0.3966\n",
            "Epoch 235/500\n",
            "36/36 [==============================] - 0s 10ms/step - loss: 0.2469 - val_loss: 0.4017\n",
            "Epoch 236/500\n",
            "36/36 [==============================] - 0s 10ms/step - loss: 0.2567 - val_loss: 0.3934\n",
            "Epoch 237/500\n",
            "36/36 [==============================] - 0s 10ms/step - loss: 0.2633 - val_loss: 0.3863\n",
            "Epoch 238/500\n",
            "36/36 [==============================] - 0s 10ms/step - loss: 0.2531 - val_loss: 0.3949\n",
            "Epoch 239/500\n",
            "36/36 [==============================] - 0s 10ms/step - loss: 0.2565 - val_loss: 0.3882\n",
            "Epoch 240/500\n",
            "36/36 [==============================] - 0s 10ms/step - loss: 0.2501 - val_loss: 0.3849\n",
            "Epoch 241/500\n",
            "36/36 [==============================] - 0s 10ms/step - loss: 0.2448 - val_loss: 0.4034\n",
            "Epoch 242/500\n",
            "36/36 [==============================] - 0s 9ms/step - loss: 0.2545 - val_loss: 0.4016\n",
            "Epoch 243/500\n",
            "36/36 [==============================] - 0s 10ms/step - loss: 0.2456 - val_loss: 0.3940\n",
            "Epoch 244/500\n",
            "36/36 [==============================] - 0s 10ms/step - loss: 0.2446 - val_loss: 0.3787\n",
            "Epoch 245/500\n",
            "36/36 [==============================] - 0s 10ms/step - loss: 0.2430 - val_loss: 0.3760\n",
            "Epoch 246/500\n",
            "36/36 [==============================] - 0s 10ms/step - loss: 0.2429 - val_loss: 0.4053\n",
            "Epoch 247/500\n",
            "36/36 [==============================] - 0s 10ms/step - loss: 0.2401 - val_loss: 0.3964\n",
            "Epoch 248/500\n",
            "36/36 [==============================] - 0s 10ms/step - loss: 0.2334 - val_loss: 0.3857\n",
            "Epoch 249/500\n",
            "36/36 [==============================] - 0s 10ms/step - loss: 0.2389 - val_loss: 0.3852\n",
            "Epoch 250/500\n",
            "36/36 [==============================] - 0s 10ms/step - loss: 0.2498 - val_loss: 0.3883\n",
            "Epoch 251/500\n",
            "36/36 [==============================] - 0s 10ms/step - loss: 0.2480 - val_loss: 0.3941\n",
            "Epoch 252/500\n",
            "36/36 [==============================] - 0s 11ms/step - loss: 0.2358 - val_loss: 0.3751\n",
            "Epoch 253/500\n",
            "36/36 [==============================] - 0s 10ms/step - loss: 0.2426 - val_loss: 0.3659\n",
            "Epoch 254/500\n",
            "36/36 [==============================] - 0s 10ms/step - loss: 0.2400 - val_loss: 0.3761\n",
            "Epoch 255/500\n",
            "36/36 [==============================] - 0s 10ms/step - loss: 0.2444 - val_loss: 0.3660\n",
            "Epoch 256/500\n",
            "36/36 [==============================] - 0s 10ms/step - loss: 0.2347 - val_loss: 0.3732\n",
            "Epoch 257/500\n",
            "36/36 [==============================] - 0s 10ms/step - loss: 0.2383 - val_loss: 0.3783\n",
            "Epoch 258/500\n",
            "36/36 [==============================] - 0s 11ms/step - loss: 0.2352 - val_loss: 0.3869\n",
            "Epoch 259/500\n",
            "36/36 [==============================] - 0s 11ms/step - loss: 0.2474 - val_loss: 0.3766\n",
            "Epoch 260/500\n",
            "36/36 [==============================] - 0s 11ms/step - loss: 0.2272 - val_loss: 0.3725\n",
            "Epoch 261/500\n",
            "36/36 [==============================] - 0s 12ms/step - loss: 0.2295 - val_loss: 0.3756\n",
            "Epoch 262/500\n",
            "36/36 [==============================] - 0s 11ms/step - loss: 0.2286 - val_loss: 0.3863\n",
            "Epoch 263/500\n",
            "36/36 [==============================] - 0s 13ms/step - loss: 0.2364 - val_loss: 0.3730\n",
            "Epoch 264/500\n",
            "36/36 [==============================] - 0s 11ms/step - loss: 0.2300 - val_loss: 0.3746\n",
            "Epoch 265/500\n",
            "36/36 [==============================] - 0s 12ms/step - loss: 0.2277 - val_loss: 0.3783\n",
            "Epoch 266/500\n",
            "36/36 [==============================] - 0s 11ms/step - loss: 0.2287 - val_loss: 0.3781\n",
            "Epoch 267/500\n",
            "36/36 [==============================] - 0s 11ms/step - loss: 0.2275 - val_loss: 0.3640\n",
            "Epoch 268/500\n",
            "36/36 [==============================] - 0s 11ms/step - loss: 0.2290 - val_loss: 0.3540\n",
            "Epoch 269/500\n",
            "36/36 [==============================] - 0s 11ms/step - loss: 0.2138 - val_loss: 0.3798\n",
            "Epoch 270/500\n",
            "36/36 [==============================] - 0s 12ms/step - loss: 0.2342 - val_loss: 0.3892\n",
            "Epoch 271/500\n",
            "36/36 [==============================] - 0s 10ms/step - loss: 0.2260 - val_loss: 0.3887\n",
            "Epoch 272/500\n",
            "36/36 [==============================] - 0s 10ms/step - loss: 0.2280 - val_loss: 0.3829\n",
            "Epoch 273/500\n",
            "36/36 [==============================] - 0s 10ms/step - loss: 0.2215 - val_loss: 0.3795\n",
            "Epoch 274/500\n",
            "36/36 [==============================] - 0s 10ms/step - loss: 0.2206 - val_loss: 0.3681\n",
            "Epoch 275/500\n",
            "36/36 [==============================] - 0s 10ms/step - loss: 0.2151 - val_loss: 0.3729\n",
            "Epoch 276/500\n",
            "36/36 [==============================] - 0s 10ms/step - loss: 0.2277 - val_loss: 0.3666\n",
            "Epoch 277/500\n",
            "36/36 [==============================] - 0s 10ms/step - loss: 0.2146 - val_loss: 0.3633\n",
            "Epoch 278/500\n",
            "36/36 [==============================] - 0s 10ms/step - loss: 0.2155 - val_loss: 0.3608\n",
            "Epoch 279/500\n",
            "36/36 [==============================] - 0s 10ms/step - loss: 0.2178 - val_loss: 0.3680\n",
            "Epoch 280/500\n",
            "36/36 [==============================] - 0s 10ms/step - loss: 0.2149 - val_loss: 0.3734\n",
            "Epoch 281/500\n",
            "36/36 [==============================] - 0s 10ms/step - loss: 0.2202 - val_loss: 0.4055\n",
            "Epoch 282/500\n",
            "36/36 [==============================] - 0s 10ms/step - loss: 0.2160 - val_loss: 0.3597\n",
            "Epoch 283/500\n",
            "36/36 [==============================] - 0s 10ms/step - loss: 0.2160 - val_loss: 0.3857\n",
            "Epoch 284/500\n",
            "36/36 [==============================] - 0s 10ms/step - loss: 0.2143 - val_loss: 0.3801\n",
            "Epoch 285/500\n",
            "36/36 [==============================] - 0s 10ms/step - loss: 0.2104 - val_loss: 0.3596\n",
            "Epoch 286/500\n",
            "36/36 [==============================] - 0s 10ms/step - loss: 0.2125 - val_loss: 0.3726\n",
            "Epoch 287/500\n",
            "36/36 [==============================] - 1s 15ms/step - loss: 0.2088 - val_loss: 0.3728\n",
            "Epoch 288/500\n",
            "36/36 [==============================] - 0s 10ms/step - loss: 0.2170 - val_loss: 0.3705\n",
            "Epoch 289/500\n",
            "36/36 [==============================] - 0s 10ms/step - loss: 0.2167 - val_loss: 0.4066\n",
            "Epoch 290/500\n",
            "36/36 [==============================] - 0s 10ms/step - loss: 0.2165 - val_loss: 0.3706\n",
            "Epoch 291/500\n",
            "36/36 [==============================] - 0s 10ms/step - loss: 0.2085 - val_loss: 0.3590\n",
            "Epoch 292/500\n",
            "36/36 [==============================] - 0s 10ms/step - loss: 0.2081 - val_loss: 0.3619\n",
            "Epoch 293/500\n",
            "36/36 [==============================] - 0s 10ms/step - loss: 0.2131 - val_loss: 0.3656\n",
            "Epoch 294/500\n",
            "36/36 [==============================] - 0s 10ms/step - loss: 0.2152 - val_loss: 0.3710\n",
            "Epoch 295/500\n",
            "36/36 [==============================] - 0s 10ms/step - loss: 0.2168 - val_loss: 0.3774\n",
            "Epoch 296/500\n",
            "36/36 [==============================] - 0s 10ms/step - loss: 0.2139 - val_loss: 0.3674\n",
            "Epoch 297/500\n",
            "36/36 [==============================] - 0s 10ms/step - loss: 0.2074 - val_loss: 0.3712\n",
            "Epoch 298/500\n",
            "36/36 [==============================] - 0s 10ms/step - loss: 0.2055 - val_loss: 0.3840\n",
            "Epoch 299/500\n",
            "36/36 [==============================] - 0s 10ms/step - loss: 0.2045 - val_loss: 0.3842\n",
            "Epoch 300/500\n",
            "36/36 [==============================] - 0s 10ms/step - loss: 0.2042 - val_loss: 0.3961\n",
            "Epoch 301/500\n",
            "36/36 [==============================] - 0s 10ms/step - loss: 0.2154 - val_loss: 0.3620\n",
            "Epoch 302/500\n",
            "36/36 [==============================] - 0s 11ms/step - loss: 0.2044 - val_loss: 0.3584\n",
            "Epoch 303/500\n",
            "36/36 [==============================] - 0s 10ms/step - loss: 0.1981 - val_loss: 0.3744\n",
            "Epoch 304/500\n",
            "36/36 [==============================] - 0s 10ms/step - loss: 0.2067 - val_loss: 0.3652\n",
            "Epoch 305/500\n",
            "36/36 [==============================] - 0s 10ms/step - loss: 0.2057 - val_loss: 0.3842\n",
            "Epoch 306/500\n",
            "36/36 [==============================] - 0s 10ms/step - loss: 0.1953 - val_loss: 0.3938\n",
            "Epoch 307/500\n",
            "36/36 [==============================] - 0s 10ms/step - loss: 0.1955 - val_loss: 0.3728\n",
            "Epoch 308/500\n",
            "36/36 [==============================] - 0s 11ms/step - loss: 0.1965 - val_loss: 0.3567\n",
            "Epoch 309/500\n",
            "36/36 [==============================] - 0s 10ms/step - loss: 0.1945 - val_loss: 0.3710\n",
            "Epoch 310/500\n",
            "36/36 [==============================] - 0s 10ms/step - loss: 0.1946 - val_loss: 0.3631\n",
            "Epoch 311/500\n",
            "36/36 [==============================] - 0s 10ms/step - loss: 0.1960 - val_loss: 0.3817\n",
            "Epoch 312/500\n",
            "36/36 [==============================] - 0s 10ms/step - loss: 0.1969 - val_loss: 0.3736\n",
            "Epoch 313/500\n",
            "36/36 [==============================] - 0s 11ms/step - loss: 0.1929 - val_loss: 0.3579\n",
            "Epoch 314/500\n",
            "36/36 [==============================] - 0s 10ms/step - loss: 0.1934 - val_loss: 0.3563\n",
            "Epoch 315/500\n",
            "36/36 [==============================] - 0s 10ms/step - loss: 0.1963 - val_loss: 0.3724\n",
            "Epoch 316/500\n",
            "36/36 [==============================] - 0s 10ms/step - loss: 0.1947 - val_loss: 0.3692\n",
            "Epoch 317/500\n",
            "36/36 [==============================] - 0s 10ms/step - loss: 0.1948 - val_loss: 0.3690\n",
            "Epoch 318/500\n",
            "36/36 [==============================] - 0s 10ms/step - loss: 0.1900 - val_loss: 0.3580\n",
            "Epoch 319/500\n",
            "36/36 [==============================] - 0s 10ms/step - loss: 0.1970 - val_loss: 0.3569\n",
            "Epoch 320/500\n",
            "36/36 [==============================] - 0s 10ms/step - loss: 0.1995 - val_loss: 0.3601\n",
            "Epoch 321/500\n",
            "36/36 [==============================] - 0s 10ms/step - loss: 0.2066 - val_loss: 0.3770\n",
            "Epoch 322/500\n",
            "36/36 [==============================] - 0s 10ms/step - loss: 0.1838 - val_loss: 0.3626\n",
            "Epoch 323/500\n",
            "36/36 [==============================] - 0s 10ms/step - loss: 0.1922 - val_loss: 0.3560\n",
            "Epoch 324/500\n",
            "36/36 [==============================] - 0s 10ms/step - loss: 0.1961 - val_loss: 0.3533\n",
            "Epoch 325/500\n",
            "36/36 [==============================] - 0s 10ms/step - loss: 0.1872 - val_loss: 0.3671\n",
            "Epoch 326/500\n",
            "36/36 [==============================] - 0s 10ms/step - loss: 0.1895 - val_loss: 0.3841\n",
            "Epoch 327/500\n",
            "36/36 [==============================] - 0s 10ms/step - loss: 0.1932 - val_loss: 0.3699\n",
            "Epoch 328/500\n",
            "36/36 [==============================] - 0s 10ms/step - loss: 0.1854 - val_loss: 0.3531\n",
            "Epoch 329/500\n",
            "36/36 [==============================] - 0s 10ms/step - loss: 0.1744 - val_loss: 0.3761\n",
            "Epoch 330/500\n",
            "36/36 [==============================] - 0s 10ms/step - loss: 0.1769 - val_loss: 0.3610\n",
            "Epoch 331/500\n",
            "36/36 [==============================] - 0s 10ms/step - loss: 0.1864 - val_loss: 0.3608\n",
            "Epoch 332/500\n",
            "36/36 [==============================] - 0s 10ms/step - loss: 0.1856 - val_loss: 0.3537\n",
            "Epoch 333/500\n",
            "36/36 [==============================] - 0s 10ms/step - loss: 0.1845 - val_loss: 0.3609\n",
            "Epoch 334/500\n",
            "36/36 [==============================] - 0s 10ms/step - loss: 0.1810 - val_loss: 0.3584\n",
            "Epoch 335/500\n",
            "36/36 [==============================] - 0s 10ms/step - loss: 0.1869 - val_loss: 0.3633\n",
            "Epoch 336/500\n",
            "36/36 [==============================] - 0s 10ms/step - loss: 0.1803 - val_loss: 0.4053\n",
            "Epoch 337/500\n",
            "36/36 [==============================] - 0s 10ms/step - loss: 0.1945 - val_loss: 0.3825\n",
            "Epoch 338/500\n",
            "36/36 [==============================] - 0s 10ms/step - loss: 0.1895 - val_loss: 0.3661\n",
            "Epoch 339/500\n",
            "36/36 [==============================] - 0s 11ms/step - loss: 0.1827 - val_loss: 0.3653\n",
            "Epoch 340/500\n",
            "36/36 [==============================] - 0s 10ms/step - loss: 0.1879 - val_loss: 0.3618\n",
            "Epoch 341/500\n",
            "36/36 [==============================] - 0s 10ms/step - loss: 0.1800 - val_loss: 0.3700\n",
            "Epoch 342/500\n",
            "36/36 [==============================] - 0s 10ms/step - loss: 0.1844 - val_loss: 0.3575\n",
            "Epoch 343/500\n",
            "36/36 [==============================] - 0s 10ms/step - loss: 0.1867 - val_loss: 0.3741\n",
            "Epoch 344/500\n",
            "36/36 [==============================] - 0s 10ms/step - loss: 0.1822 - val_loss: 0.3707\n",
            "Epoch 345/500\n",
            "36/36 [==============================] - 0s 11ms/step - loss: 0.1775 - val_loss: 0.3610\n",
            "Epoch 346/500\n",
            "36/36 [==============================] - 0s 10ms/step - loss: 0.1755 - val_loss: 0.3606\n",
            "Epoch 347/500\n",
            "36/36 [==============================] - 1s 14ms/step - loss: 0.1764 - val_loss: 0.3682\n",
            "Epoch 348/500\n",
            "36/36 [==============================] - 0s 10ms/step - loss: 0.1838 - val_loss: 0.3564\n",
            "Epoch 349/500\n",
            "36/36 [==============================] - 0s 10ms/step - loss: 0.1835 - val_loss: 0.3708\n",
            "Epoch 350/500\n",
            "36/36 [==============================] - 0s 10ms/step - loss: 0.1694 - val_loss: 0.3562\n",
            "Epoch 351/500\n",
            "36/36 [==============================] - 0s 10ms/step - loss: 0.1748 - val_loss: 0.3757\n",
            "Epoch 352/500\n",
            "36/36 [==============================] - 0s 10ms/step - loss: 0.1773 - val_loss: 0.3540\n",
            "Epoch 353/500\n",
            "36/36 [==============================] - 0s 10ms/step - loss: 0.1764 - val_loss: 0.3912\n",
            "Epoch 354/500\n",
            "36/36 [==============================] - 0s 10ms/step - loss: 0.1815 - val_loss: 0.3594\n",
            "Epoch 355/500\n",
            "36/36 [==============================] - 0s 10ms/step - loss: 0.1777 - val_loss: 0.3559\n",
            "Epoch 356/500\n",
            "36/36 [==============================] - 0s 10ms/step - loss: 0.1716 - val_loss: 0.3482\n",
            "Epoch 357/500\n",
            "36/36 [==============================] - 0s 10ms/step - loss: 0.1844 - val_loss: 0.3424\n",
            "Epoch 358/500\n",
            "36/36 [==============================] - 0s 10ms/step - loss: 0.1730 - val_loss: 0.3647\n",
            "Epoch 359/500\n",
            "36/36 [==============================] - 0s 10ms/step - loss: 0.1786 - val_loss: 0.3558\n",
            "Epoch 360/500\n",
            "36/36 [==============================] - 0s 11ms/step - loss: 0.1731 - val_loss: 0.3942\n",
            "Epoch 361/500\n",
            "36/36 [==============================] - 0s 10ms/step - loss: 0.1699 - val_loss: 0.3472\n",
            "Epoch 362/500\n",
            "36/36 [==============================] - 0s 10ms/step - loss: 0.1643 - val_loss: 0.3615\n",
            "Epoch 363/500\n",
            "36/36 [==============================] - 0s 10ms/step - loss: 0.1788 - val_loss: 0.3491\n",
            "Epoch 364/500\n",
            "36/36 [==============================] - 0s 11ms/step - loss: 0.1693 - val_loss: 0.3638\n",
            "Epoch 365/500\n",
            "36/36 [==============================] - 0s 10ms/step - loss: 0.1704 - val_loss: 0.3418\n",
            "Epoch 366/500\n",
            "36/36 [==============================] - 0s 10ms/step - loss: 0.1617 - val_loss: 0.3771\n",
            "Epoch 367/500\n",
            "36/36 [==============================] - 0s 10ms/step - loss: 0.1714 - val_loss: 0.3641\n",
            "Epoch 368/500\n",
            "36/36 [==============================] - 0s 10ms/step - loss: 0.1649 - val_loss: 0.3833\n",
            "Epoch 369/500\n",
            "36/36 [==============================] - 0s 10ms/step - loss: 0.1706 - val_loss: 0.3603\n",
            "Epoch 370/500\n",
            "36/36 [==============================] - 0s 10ms/step - loss: 0.1699 - val_loss: 0.3582\n",
            "Epoch 371/500\n",
            "36/36 [==============================] - 0s 10ms/step - loss: 0.1746 - val_loss: 0.3790\n",
            "Epoch 372/500\n",
            "36/36 [==============================] - 0s 11ms/step - loss: 0.1756 - val_loss: 0.3655\n",
            "Epoch 373/500\n",
            "36/36 [==============================] - 0s 10ms/step - loss: 0.1656 - val_loss: 0.3569\n",
            "Epoch 374/500\n",
            "36/36 [==============================] - 0s 11ms/step - loss: 0.1665 - val_loss: 0.3597\n",
            "Epoch 375/500\n",
            "36/36 [==============================] - 0s 10ms/step - loss: 0.1737 - val_loss: 0.3665\n",
            "Epoch 376/500\n",
            "36/36 [==============================] - 0s 10ms/step - loss: 0.1751 - val_loss: 0.3637\n",
            "Epoch 377/500\n",
            "36/36 [==============================] - 0s 10ms/step - loss: 0.1665 - val_loss: 0.3577\n",
            "Epoch 378/500\n",
            "36/36 [==============================] - 0s 10ms/step - loss: 0.1692 - val_loss: 0.3755\n",
            "Epoch 379/500\n",
            "36/36 [==============================] - 0s 10ms/step - loss: 0.1688 - val_loss: 0.3539\n",
            "Epoch 380/500\n",
            "36/36 [==============================] - 0s 10ms/step - loss: 0.1647 - val_loss: 0.3558\n",
            "Epoch 381/500\n",
            "36/36 [==============================] - 0s 10ms/step - loss: 0.1577 - val_loss: 0.3535\n",
            "Epoch 382/500\n",
            "36/36 [==============================] - 0s 12ms/step - loss: 0.1686 - val_loss: 0.3428\n",
            "Epoch 383/500\n",
            "36/36 [==============================] - 0s 11ms/step - loss: 0.1627 - val_loss: 0.3434\n",
            "Epoch 384/500\n",
            "36/36 [==============================] - 0s 10ms/step - loss: 0.1548 - val_loss: 0.3759\n",
            "Epoch 385/500\n",
            "36/36 [==============================] - 0s 10ms/step - loss: 0.1617 - val_loss: 0.3637\n",
            "Epoch 386/500\n",
            "36/36 [==============================] - 0s 10ms/step - loss: 0.1617 - val_loss: 0.3692\n",
            "Epoch 387/500\n",
            "36/36 [==============================] - 0s 10ms/step - loss: 0.1628 - val_loss: 0.3428\n",
            "Epoch 388/500\n",
            "36/36 [==============================] - 0s 10ms/step - loss: 0.1563 - val_loss: 0.3751\n",
            "Epoch 389/500\n",
            "36/36 [==============================] - 0s 10ms/step - loss: 0.1609 - val_loss: 0.3320\n",
            "Epoch 390/500\n",
            "36/36 [==============================] - 0s 10ms/step - loss: 0.1583 - val_loss: 0.3384\n",
            "Epoch 391/500\n",
            "36/36 [==============================] - 0s 10ms/step - loss: 0.1622 - val_loss: 0.3634\n",
            "Epoch 392/500\n",
            "36/36 [==============================] - 0s 10ms/step - loss: 0.1527 - val_loss: 0.3558\n",
            "Epoch 393/500\n",
            "36/36 [==============================] - 0s 10ms/step - loss: 0.1583 - val_loss: 0.3517\n",
            "Epoch 394/500\n",
            "36/36 [==============================] - 0s 10ms/step - loss: 0.1500 - val_loss: 0.3796\n",
            "Epoch 395/500\n",
            "36/36 [==============================] - 0s 10ms/step - loss: 0.1595 - val_loss: 0.3587\n",
            "Epoch 396/500\n",
            "36/36 [==============================] - 0s 11ms/step - loss: 0.1610 - val_loss: 0.3479\n",
            "Epoch 397/500\n",
            "36/36 [==============================] - 0s 10ms/step - loss: 0.1567 - val_loss: 0.3371\n",
            "Epoch 398/500\n",
            "36/36 [==============================] - 0s 11ms/step - loss: 0.1514 - val_loss: 0.3479\n",
            "Epoch 399/500\n",
            "36/36 [==============================] - 0s 10ms/step - loss: 0.1613 - val_loss: 0.3388\n",
            "Epoch 400/500\n",
            "36/36 [==============================] - 0s 10ms/step - loss: 0.1590 - val_loss: 0.3366\n",
            "Epoch 401/500\n",
            "36/36 [==============================] - 0s 10ms/step - loss: 0.1543 - val_loss: 0.3584\n",
            "Epoch 402/500\n",
            "36/36 [==============================] - 0s 10ms/step - loss: 0.1559 - val_loss: 0.3410\n",
            "Epoch 403/500\n",
            "36/36 [==============================] - 0s 11ms/step - loss: 0.1548 - val_loss: 0.3453\n",
            "Epoch 404/500\n",
            "36/36 [==============================] - 0s 11ms/step - loss: 0.1494 - val_loss: 0.3474\n",
            "Epoch 405/500\n",
            "36/36 [==============================] - 0s 10ms/step - loss: 0.1567 - val_loss: 0.3729\n",
            "Epoch 406/500\n",
            "36/36 [==============================] - 0s 10ms/step - loss: 0.1654 - val_loss: 0.3521\n",
            "Epoch 407/500\n",
            "36/36 [==============================] - 1s 14ms/step - loss: 0.1548 - val_loss: 0.3454\n",
            "Epoch 408/500\n",
            "36/36 [==============================] - 0s 11ms/step - loss: 0.1557 - val_loss: 0.3505\n",
            "Epoch 409/500\n",
            "36/36 [==============================] - 0s 10ms/step - loss: 0.1487 - val_loss: 0.3462\n",
            "Epoch 410/500\n",
            "36/36 [==============================] - 0s 10ms/step - loss: 0.1522 - val_loss: 0.3724\n",
            "Epoch 411/500\n",
            "36/36 [==============================] - 0s 10ms/step - loss: 0.1483 - val_loss: 0.3452\n",
            "Epoch 412/500\n",
            "36/36 [==============================] - 0s 10ms/step - loss: 0.1559 - val_loss: 0.3491\n",
            "Epoch 413/500\n",
            "36/36 [==============================] - 0s 10ms/step - loss: 0.1594 - val_loss: 0.3548\n",
            "Epoch 414/500\n",
            "36/36 [==============================] - 0s 10ms/step - loss: 0.1543 - val_loss: 0.3794\n",
            "Epoch 415/500\n",
            "36/36 [==============================] - 0s 11ms/step - loss: 0.1511 - val_loss: 0.3513\n",
            "Epoch 416/500\n",
            "36/36 [==============================] - 0s 10ms/step - loss: 0.1522 - val_loss: 0.3499\n",
            "Epoch 417/500\n",
            "36/36 [==============================] - 0s 10ms/step - loss: 0.1437 - val_loss: 0.3503\n",
            "Epoch 418/500\n",
            "36/36 [==============================] - 0s 10ms/step - loss: 0.1452 - val_loss: 0.3414\n",
            "Epoch 419/500\n",
            "36/36 [==============================] - 0s 10ms/step - loss: 0.1431 - val_loss: 0.3658\n",
            "Epoch 420/500\n",
            "36/36 [==============================] - 0s 10ms/step - loss: 0.1527 - val_loss: 0.3684\n",
            "Epoch 421/500\n",
            "36/36 [==============================] - 0s 10ms/step - loss: 0.1442 - val_loss: 0.3705\n",
            "Epoch 422/500\n",
            "36/36 [==============================] - 0s 11ms/step - loss: 0.1469 - val_loss: 0.3417\n",
            "Epoch 423/500\n",
            "36/36 [==============================] - 0s 10ms/step - loss: 0.1421 - val_loss: 0.3464\n",
            "Epoch 424/500\n",
            "36/36 [==============================] - 0s 10ms/step - loss: 0.1424 - val_loss: 0.3525\n",
            "Epoch 425/500\n",
            "36/36 [==============================] - 0s 10ms/step - loss: 0.1392 - val_loss: 0.3383\n",
            "Epoch 426/500\n",
            "36/36 [==============================] - 0s 11ms/step - loss: 0.1467 - val_loss: 0.3663\n",
            "Epoch 427/500\n",
            "36/36 [==============================] - 0s 10ms/step - loss: 0.1450 - val_loss: 0.3443\n",
            "Epoch 428/500\n",
            "36/36 [==============================] - 0s 11ms/step - loss: 0.1567 - val_loss: 0.3413\n",
            "Epoch 429/500\n",
            "36/36 [==============================] - 0s 10ms/step - loss: 0.1469 - val_loss: 0.3530\n",
            "Epoch 430/500\n",
            "36/36 [==============================] - 0s 10ms/step - loss: 0.1512 - val_loss: 0.3632\n",
            "Epoch 431/500\n",
            "36/36 [==============================] - 0s 10ms/step - loss: 0.1433 - val_loss: 0.3464\n",
            "Epoch 432/500\n",
            "36/36 [==============================] - 0s 10ms/step - loss: 0.1523 - val_loss: 0.3540\n",
            "Epoch 433/500\n",
            "36/36 [==============================] - 0s 10ms/step - loss: 0.1436 - val_loss: 0.3601\n",
            "Epoch 434/500\n",
            "36/36 [==============================] - 0s 11ms/step - loss: 0.1377 - val_loss: 0.3553\n",
            "Epoch 435/500\n",
            "36/36 [==============================] - 0s 10ms/step - loss: 0.1439 - val_loss: 0.3416\n",
            "Epoch 436/500\n",
            "36/36 [==============================] - 0s 10ms/step - loss: 0.1447 - val_loss: 0.3586\n",
            "Epoch 437/500\n",
            "36/36 [==============================] - 0s 10ms/step - loss: 0.1409 - val_loss: 0.3705\n",
            "Epoch 438/500\n",
            "36/36 [==============================] - 0s 10ms/step - loss: 0.1413 - val_loss: 0.3546\n",
            "Epoch 439/500\n",
            "36/36 [==============================] - 0s 10ms/step - loss: 0.1424 - val_loss: 0.3622\n",
            "Epoch 440/500\n",
            "36/36 [==============================] - 0s 11ms/step - loss: 0.1493 - val_loss: 0.3865\n",
            "Epoch 441/500\n",
            "36/36 [==============================] - 0s 11ms/step - loss: 0.1455 - val_loss: 0.3355\n",
            "Epoch 442/500\n",
            "36/36 [==============================] - 0s 10ms/step - loss: 0.1404 - val_loss: 0.3651\n",
            "Epoch 443/500\n",
            "36/36 [==============================] - 0s 10ms/step - loss: 0.1392 - val_loss: 0.3535\n",
            "Epoch 444/500\n",
            "36/36 [==============================] - 0s 10ms/step - loss: 0.1398 - val_loss: 0.3545\n",
            "Epoch 445/500\n",
            "36/36 [==============================] - 0s 10ms/step - loss: 0.1414 - val_loss: 0.3523\n",
            "Epoch 446/500\n",
            "36/36 [==============================] - 0s 11ms/step - loss: 0.1392 - val_loss: 0.3436\n",
            "Epoch 447/500\n",
            "36/36 [==============================] - 0s 10ms/step - loss: 0.1319 - val_loss: 0.3429\n",
            "Epoch 448/500\n",
            "36/36 [==============================] - 0s 11ms/step - loss: 0.1336 - val_loss: 0.3538\n",
            "Epoch 449/500\n",
            "36/36 [==============================] - 0s 10ms/step - loss: 0.1371 - val_loss: 0.3433\n",
            "Epoch 450/500\n",
            "36/36 [==============================] - 0s 10ms/step - loss: 0.1379 - val_loss: 0.3460\n",
            "Epoch 451/500\n",
            "36/36 [==============================] - 0s 11ms/step - loss: 0.1381 - val_loss: 0.3654\n",
            "Epoch 452/500\n",
            "36/36 [==============================] - 0s 10ms/step - loss: 0.1426 - val_loss: 0.3360\n",
            "Epoch 453/500\n",
            "36/36 [==============================] - 0s 10ms/step - loss: 0.1361 - val_loss: 0.3319\n",
            "Epoch 454/500\n",
            "36/36 [==============================] - 0s 10ms/step - loss: 0.1391 - val_loss: 0.3253\n",
            "Epoch 455/500\n",
            "36/36 [==============================] - 0s 10ms/step - loss: 0.1380 - val_loss: 0.3502\n",
            "Epoch 456/500\n",
            "36/36 [==============================] - 0s 10ms/step - loss: 0.1375 - val_loss: 0.3425\n",
            "Epoch 457/500\n",
            "36/36 [==============================] - 0s 11ms/step - loss: 0.1346 - val_loss: 0.3472\n",
            "Epoch 458/500\n",
            "36/36 [==============================] - 0s 10ms/step - loss: 0.1321 - val_loss: 0.3434\n",
            "Epoch 459/500\n",
            "36/36 [==============================] - 0s 11ms/step - loss: 0.1302 - val_loss: 0.3543\n",
            "Epoch 460/500\n",
            "36/36 [==============================] - 0s 10ms/step - loss: 0.1343 - val_loss: 0.3542\n",
            "Epoch 461/500\n",
            "36/36 [==============================] - 0s 11ms/step - loss: 0.1305 - val_loss: 0.3485\n",
            "Epoch 462/500\n",
            "36/36 [==============================] - 0s 11ms/step - loss: 0.1411 - val_loss: 0.3394\n",
            "Epoch 463/500\n",
            "36/36 [==============================] - 0s 11ms/step - loss: 0.1307 - val_loss: 0.3470\n",
            "Epoch 464/500\n",
            "36/36 [==============================] - 0s 10ms/step - loss: 0.1256 - val_loss: 0.3905\n",
            "Epoch 465/500\n",
            "36/36 [==============================] - 0s 10ms/step - loss: 0.1339 - val_loss: 0.3449\n",
            "Epoch 466/500\n",
            "36/36 [==============================] - 0s 10ms/step - loss: 0.1310 - val_loss: 0.3311\n",
            "Epoch 467/500\n",
            "36/36 [==============================] - 1s 15ms/step - loss: 0.1342 - val_loss: 0.3520\n",
            "Epoch 468/500\n",
            "36/36 [==============================] - 0s 10ms/step - loss: 0.1299 - val_loss: 0.3585\n",
            "Epoch 469/500\n",
            "36/36 [==============================] - 0s 11ms/step - loss: 0.1289 - val_loss: 0.3487\n",
            "Epoch 470/500\n",
            "36/36 [==============================] - 0s 10ms/step - loss: 0.1417 - val_loss: 0.3469\n",
            "Epoch 471/500\n",
            "36/36 [==============================] - 0s 10ms/step - loss: 0.1321 - val_loss: 0.3482\n",
            "Epoch 472/500\n",
            "36/36 [==============================] - 0s 11ms/step - loss: 0.1327 - val_loss: 0.3479\n",
            "Epoch 473/500\n",
            "36/36 [==============================] - 0s 10ms/step - loss: 0.1413 - val_loss: 0.3694\n",
            "Epoch 474/500\n",
            "36/36 [==============================] - 0s 10ms/step - loss: 0.1293 - val_loss: 0.3371\n",
            "Epoch 475/500\n",
            "36/36 [==============================] - 0s 11ms/step - loss: 0.1216 - val_loss: 0.3658\n",
            "Epoch 476/500\n",
            "36/36 [==============================] - 0s 10ms/step - loss: 0.1296 - val_loss: 0.3349\n",
            "Epoch 477/500\n",
            "36/36 [==============================] - 0s 10ms/step - loss: 0.1405 - val_loss: 0.3447\n",
            "Epoch 478/500\n",
            "36/36 [==============================] - 0s 10ms/step - loss: 0.1364 - val_loss: 0.3459\n",
            "Epoch 479/500\n",
            "36/36 [==============================] - 0s 10ms/step - loss: 0.1235 - val_loss: 0.3482\n",
            "Epoch 480/500\n",
            "36/36 [==============================] - 0s 10ms/step - loss: 0.1214 - val_loss: 0.3190\n",
            "Epoch 481/500\n",
            "36/36 [==============================] - 0s 10ms/step - loss: 0.1233 - val_loss: 0.3457\n",
            "Epoch 482/500\n",
            "36/36 [==============================] - 0s 10ms/step - loss: 0.1264 - val_loss: 0.3622\n",
            "Epoch 483/500\n",
            "36/36 [==============================] - 0s 11ms/step - loss: 0.1274 - val_loss: 0.3601\n",
            "Epoch 484/500\n",
            "36/36 [==============================] - 0s 10ms/step - loss: 0.1288 - val_loss: 0.3688\n",
            "Epoch 485/500\n",
            "36/36 [==============================] - 0s 10ms/step - loss: 0.1336 - val_loss: 0.3282\n",
            "Epoch 486/500\n",
            "36/36 [==============================] - 0s 10ms/step - loss: 0.1276 - val_loss: 0.3371\n",
            "Epoch 487/500\n",
            "36/36 [==============================] - 0s 10ms/step - loss: 0.1311 - val_loss: 0.4064\n",
            "Epoch 488/500\n",
            "36/36 [==============================] - 0s 11ms/step - loss: 0.1269 - val_loss: 0.3377\n",
            "Epoch 489/500\n",
            "36/36 [==============================] - 0s 10ms/step - loss: 0.1241 - val_loss: 0.3489\n",
            "Epoch 490/500\n",
            "36/36 [==============================] - 0s 10ms/step - loss: 0.1281 - val_loss: 0.3595\n",
            "Epoch 491/500\n",
            "36/36 [==============================] - 0s 10ms/step - loss: 0.1321 - val_loss: 0.3612\n",
            "Epoch 492/500\n",
            "36/36 [==============================] - 0s 10ms/step - loss: 0.1307 - val_loss: 0.3246\n",
            "Epoch 493/500\n",
            "36/36 [==============================] - 0s 10ms/step - loss: 0.1176 - val_loss: 0.3487\n",
            "Epoch 494/500\n",
            "36/36 [==============================] - 0s 10ms/step - loss: 0.1262 - val_loss: 0.3379\n",
            "Epoch 495/500\n",
            "36/36 [==============================] - 0s 11ms/step - loss: 0.1244 - val_loss: 0.3637\n",
            "Epoch 496/500\n",
            "36/36 [==============================] - 0s 11ms/step - loss: 0.1327 - val_loss: 0.3573\n",
            "Epoch 497/500\n",
            "36/36 [==============================] - 0s 10ms/step - loss: 0.1256 - val_loss: 0.3429\n",
            "Epoch 498/500\n",
            "36/36 [==============================] - 0s 10ms/step - loss: 0.1250 - val_loss: 0.3464\n",
            "Epoch 499/500\n",
            "36/36 [==============================] - 0s 11ms/step - loss: 0.1282 - val_loss: 0.3667\n",
            "Epoch 500/500\n",
            "36/36 [==============================] - 0s 11ms/step - loss: 0.1260 - val_loss: 0.3432\n"
          ],
          "name": "stdout"
        },
        {
          "output_type": "execute_result",
          "data": {
            "text/plain": [
              "<tensorflow.python.keras.callbacks.History at 0x7fd186c21400>"
            ]
          },
          "metadata": {
            "tags": []
          },
          "execution_count": 85
        }
      ]
    },
    {
      "cell_type": "code",
      "metadata": {
        "colab": {
          "base_uri": "https://localhost:8080/"
        },
        "id": "3NC796Pjtryc",
        "outputId": "7db4cfe2-40b0-4ea0-b477-3323a95090ea"
      },
      "source": [
        "predictions = model.predict_classes(Xtest)"
      ],
      "execution_count": null,
      "outputs": [
        {
          "output_type": "stream",
          "text": [
            "/usr/local/lib/python3.6/dist-packages/tensorflow/python/keras/engine/sequential.py:450: UserWarning: `model.predict_classes()` is deprecated and will be removed after 2021-01-01. Please use instead:* `np.argmax(model.predict(x), axis=-1)`,   if your model does multi-class classification   (e.g. if it uses a `softmax` last-layer activation).* `(model.predict(x) > 0.5).astype(\"int32\")`,   if your model does binary classification   (e.g. if it uses a `sigmoid` last-layer activation).\n",
            "  warnings.warn('`model.predict_classes()` is deprecated and '\n"
          ],
          "name": "stderr"
        }
      ]
    },
    {
      "cell_type": "code",
      "metadata": {
        "id": "0rziPMfazPKS"
      },
      "source": [
        "def plot_metric(history, metric):\n",
        "    train_metrics = history.history[metric]\n",
        "    val_metrics = history.history['val_'+metric]\n",
        "    epochs = range(1, len(train_metrics) + 1)\n",
        "    plt.plot(epochs, train_metrics, 'bo--')\n",
        "    plt.plot(epochs, val_metrics, 'ro-')\n",
        "    plt.title('Training and validation '+ metric)\n",
        "    plt.xlabel(\"Epochs\")\n",
        "    plt.ylabel(metric)\n",
        "    plt.legend([\"train_\"+metric, 'val_'+metric])\n",
        "    plt.show()"
      ],
      "execution_count": null,
      "outputs": []
    },
    {
      "cell_type": "code",
      "metadata": {
        "id": "Xdul5NhAttqE"
      },
      "source": [
        "from sklearn.metrics import classification_report,confusion_matrix"
      ],
      "execution_count": null,
      "outputs": []
    },
    {
      "cell_type": "code",
      "metadata": {
        "colab": {
          "base_uri": "https://localhost:8080/"
        },
        "id": "CKiG_XpUtwDL",
        "outputId": "825d21ab-d9d5-4ad2-cd92-90f1baec917e"
      },
      "source": [
        " accuracy_score(ytest, predictions)"
      ],
      "execution_count": null,
      "outputs": [
        {
          "output_type": "execute_result",
          "data": {
            "text/plain": [
              "0.9073646394662561"
            ]
          },
          "metadata": {
            "tags": []
          },
          "execution_count": 87
        }
      ]
    },
    {
      "cell_type": "code",
      "metadata": {
        "colab": {
          "base_uri": "https://localhost:8080/"
        },
        "id": "xR99oTyMtyKD",
        "outputId": "222e358d-c3d9-403d-fd69-12d43984d324"
      },
      "source": [
        "confusion_matrix(ytest,predictions)"
      ],
      "execution_count": null,
      "outputs": [
        {
          "output_type": "execute_result",
          "data": {
            "text/plain": [
              "array([[1591,  358],\n",
              "       [  40, 1908]])"
            ]
          },
          "metadata": {
            "tags": []
          },
          "execution_count": 79
        }
      ]
    },
    {
      "cell_type": "code",
      "metadata": {
        "colab": {
          "base_uri": "https://localhost:8080/"
        },
        "id": "EQxoO5aztzw5",
        "outputId": "983d2963-e7c4-45b4-ef36-f571a6fcad28"
      },
      "source": [
        "print(classification_report(ytest,predictions))"
      ],
      "execution_count": null,
      "outputs": [
        {
          "output_type": "stream",
          "text": [
            "              precision    recall  f1-score   support\n",
            "\n",
            "         0.0       0.98      0.82      0.89      1949\n",
            "         1.0       0.84      0.98      0.91      1948\n",
            "\n",
            "    accuracy                           0.90      3897\n",
            "   macro avg       0.91      0.90      0.90      3897\n",
            "weighted avg       0.91      0.90      0.90      3897\n",
            "\n"
          ],
          "name": "stdout"
        }
      ]
    }
  ]
}